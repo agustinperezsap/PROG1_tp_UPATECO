{
  "nbformat": 4,
  "nbformat_minor": 0,
  "metadata": {
    "colab": {
      "provenance": [],
      "authorship_tag": "ABX9TyNjwmq7hI7b74/KpyGppsRq",
      "include_colab_link": true
    },
    "kernelspec": {
      "name": "python3",
      "display_name": "Python 3"
    },
    "language_info": {
      "name": "python"
    }
  },
  "cells": [
    {
      "cell_type": "markdown",
      "metadata": {
        "id": "view-in-github",
        "colab_type": "text"
      },
      "source": [
        "<a href=\"https://colab.research.google.com/github/agustinperezsap/Agustin/blob/main/Untitled3.ipynb\" target=\"_parent\"><img src=\"https://colab.research.google.com/assets/colab-badge.svg\" alt=\"Open In Colab\"/></a>"
      ]
    },
    {
      "cell_type": "code",
      "execution_count": null,
      "metadata": {
        "id": "rnF8QHQ5Yud2"
      },
      "outputs": [],
      "source": [
        "def escribir_linea_en_archivo(nombre_archivo, linea):\n",
        "    \"\"\"\n",
        "    Escribe una línea de texto al final de un archivo de texto.\n",
        "\n",
        "    Parámetros:\n",
        "    nombre_archivo (str): La ruta y nombre del archivo a escribir.\n",
        "    linea (str): La línea de texto a escribir en el archivo.\n",
        "\n",
        "    Retorna:\n",
        "    None\n",
        "    \"\"\"\n",
        "    with open(nombre_archivo, mode='a') as archivo:\n",
        "        archivo.write(linea + '\\n')\n",
        "\n",
        "archivo = escribir_linea_en_archivo(\"nombre_archivo.txt\", \"hola\")\n",
        "\n",
        "# archivo.close()\n"
      ]
    }
  ]
}