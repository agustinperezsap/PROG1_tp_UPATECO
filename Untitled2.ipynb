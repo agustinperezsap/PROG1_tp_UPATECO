{
  "nbformat": 4,
  "nbformat_minor": 0,
  "metadata": {
    "colab": {
      "provenance": [],
      "authorship_tag": "ABX9TyOwXxyiURjXa1KDxCN31MdE",
      "include_colab_link": true
    },
    "kernelspec": {
      "name": "python3",
      "display_name": "Python 3"
    },
    "language_info": {
      "name": "python"
    }
  },
  "cells": [
    {
      "cell_type": "markdown",
      "metadata": {
        "id": "view-in-github",
        "colab_type": "text"
      },
      "source": [
        "<a href=\"https://colab.research.google.com/github/agustinperezsap/Agustin/blob/main/Untitled2.ipynb\" target=\"_parent\"><img src=\"https://colab.research.google.com/assets/colab-badge.svg\" alt=\"Open In Colab\"/></a>"
      ]
    },
    {
      "cell_type": "code",
      "execution_count": null,
      "metadata": {
        "colab": {
          "base_uri": "https://localhost:8080/"
        },
        "id": "T1gNYho2_5yZ",
        "outputId": "b9ba74af-691a-4d9f-bd08-2102a8b88ddf"
      },
      "outputs": [
        {
          "output_type": "stream",
          "name": "stdout",
          "text": [
            "cantidad a ingresar: 4\n",
            "Ingrese un numero:1205\n",
            "Ingrese un numero:1350\n",
            "Ingrese un numero:2022\n",
            "Ingrese un numero:1212\n",
            "2\n"
          ]
        }
      ],
      "source": [
        "\n",
        "# Definir una función reciba como parámetro una lista de números enteros. \n",
        "# La función deberá devolver la cantidad de números en la lista que tienen al menos un dígito igual a 5.\n",
        "# La función debe incluir el correspondiente docstring.\n",
        "# Por ejemplo, para la lista de números [1205, 1350, 2022, 1212] deberá devolver 2.\n",
        "# La función deberá tener el siguiente nombre: cuenta_cinco(lista)\n",
        "\n",
        "\n",
        "\n",
        "\n",
        "def cuenta_cinco(lista):\n",
        "  cont = 0\n",
        "  \n",
        "  for i in range(len(lista)):\n",
        "    rx = lista[i]\n",
        "    bandera = False\n",
        "    while rx != 0:\n",
        "      dig = rx%10\n",
        "      j = i\n",
        "      if dig == 5 and j  ==  i:\n",
        "        bandera = True\n",
        "      rx = rx // 10 \n",
        "    if bandera:\n",
        "      cont = cont + 1 \n",
        "  if cont > 0: \n",
        "    return cont \n",
        "  else:\n",
        "    return 0     \n",
        "\n",
        "n = int(input(\"cantidad a ingresar: \"))\n",
        "lista = []\n",
        "for i in range(n):\n",
        "  lista.append(int(input(\"Ingrese un numero:\")))\n",
        "\n",
        "print(cuenta_cinco(lista))"
      ]
    }
  ]
}