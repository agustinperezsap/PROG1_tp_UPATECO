{
  "nbformat": 4,
  "nbformat_minor": 0,
  "metadata": {
    "colab": {
      "provenance": [],
      "authorship_tag": "ABX9TyOViF5R6RZdULzuTwGpOrtc",
      "include_colab_link": true
    },
    "kernelspec": {
      "name": "python3",
      "display_name": "Python 3"
    },
    "language_info": {
      "name": "python"
    }
  },
  "cells": [
    {
      "cell_type": "markdown",
      "metadata": {
        "id": "view-in-github",
        "colab_type": "text"
      },
      "source": [
        "<a href=\"https://colab.research.google.com/github/agustinperezsap/Agustin/blob/main/Untitled5.ipynb\" target=\"_parent\"><img src=\"https://colab.research.google.com/assets/colab-badge.svg\" alt=\"Open In Colab\"/></a>"
      ]
    },
    {
      "cell_type": "code",
      "execution_count": null,
      "metadata": {
        "colab": {
          "base_uri": "https://localhost:8080/"
        },
        "id": "4RP3q0sDg94j",
        "outputId": "dd2ddc6e-b9d6-47d6-a93f-7fd7a108faa3"
      },
      "outputs": [
        {
          "output_type": "stream",
          "name": "stdout",
          "text": [
            "e\n"
          ]
        }
      ],
      "source": [
        "def obtener_caracter_en_archivo(nombre_archivo, n):\n",
        "    \"\"\"\n",
        "    Retorna el n-ésimo carácter de un archivo de texto.\n",
        "    Si el archivo tiene menos de n caracteres, muestra un mensaje de error.\n",
        "\n",
        "    Parámetros:\n",
        "    nombre_archivo (str): La ruta y nombre del archivo a leer.\n",
        "    n (int): El número de carácter a obtener.\n",
        "\n",
        "    Retorna:\n",
        "    str: El carácter en la posición n del archivo.\n",
        "    \"\"\"\n",
        "    with open(nombre_archivo, mode='r') as archivo:\n",
        "        contenido = archivo.read()\n",
        "        if len(contenido) < n:\n",
        "            print(f\"El archivo tiene {len(contenido)} caracteres, no se puede obtener el carácter {n}.\")\n",
        "            return None\n",
        "        return contenido[n - 1]\n",
        "\n",
        "\n",
        "caracter = obtener_caracter_en_archivo(\"prueba.txt\", 3)\n",
        "print(caracter)\n",
        "\n"
      ]
    }
  ]
}