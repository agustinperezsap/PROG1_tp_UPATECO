{
  "cells": [
    {
      "cell_type": "markdown",
      "metadata": {
        "id": "view-in-github",
        "colab_type": "text"
      },
      "source": [
        "<a href=\"https://colab.research.google.com/github/agustinperezsap/Agustin/blob/main/Copia_de_04_TrabajoPractico1_MANEJO_ARCHIVOS_PEREZ_SANTIAGO.ipynb\" target=\"_parent\"><img src=\"https://colab.research.google.com/assets/colab-badge.svg\" alt=\"Open In Colab\"/></a>"
      ]
    },
    {
      "cell_type": "markdown",
      "metadata": {
        "id": "TNnXI3-2teI6"
      },
      "source": [
        "# Trabajo Práctico 1 - Archivos Pt. 1\n",
        "\n",
        "Para cada clase, método o función creada en este Trabajo Práctico, se pide que se incluya su correspondiente docstring."
      ]
    },
    {
      "cell_type": "markdown",
      "metadata": {
        "id": "iYOsknQwteI8"
      },
      "source": [
        "### **Ejercicio 1**\n",
        "\n",
        "Escribir una función que permita crear un archivo de texto con algún contenido. La ruta de acceso al archivo y su contenido deben ser pasados por parámetro. Si el archivo ya existía, sobrescribirlo."
      ]
    },
    {
      "cell_type": "code",
      "source": [
        "def crear_archivo(nombre_archivo, contenido):\n",
        "\n",
        "    with open(nombre_archivo, mode='w') as archivo:\n",
        "        archivo.write(contenido)\n",
        "\n",
        "crear_archivo('carpeta_prueba/archivo.txt', 'Contenido del archivo')\n"
      ],
      "metadata": {
        "id": "qLBzK0pZJuAy"
      },
      "execution_count": null,
      "outputs": []
    },
    {
      "cell_type": "markdown",
      "metadata": {
        "id": "BK7KGvdeteI9"
      },
      "source": [
        "### **Ejercicio 2**\n",
        "\n",
        "Escribir una función que permita agregar contenido a un archivo de texto. La ruta de acceso al archivo y el contenido a agregar deben ser pasados por parámetro."
      ]
    },
    {
      "cell_type": "code",
      "source": [
        "def agregar_contenido_a_archivo(nombre_archivo, contenido):\n",
        "\n",
        "    with open(nombre_archivo, mode='a') as archivo:\n",
        "        archivo.write(contenido)\n",
        "\n",
        "agregar_contenido_a_archivo('carpeta_prueba/archivo.txt','\\n Holaaaa') "
      ],
      "metadata": {
        "id": "H7TFK4JYtghu"
      },
      "execution_count": null,
      "outputs": []
    },
    {
      "cell_type": "markdown",
      "metadata": {
        "id": "tJOdmI7OteI_"
      },
      "source": [
        "### **Ejercicio 3**\n",
        "\n",
        "Escribir una función que permita mostrar todo el contenido de un archivo de texto. La ruta de acceso al archivo debe ser pasada por parámetro."
      ]
    },
    {
      "cell_type": "code",
      "source": [
        "def mostrar_contenido_archivo(nombre_archivo):\n",
        "    with open(nombre_archivo, mode='r') as archivo:\n",
        "        contenido = archivo.read()\n",
        "        print(contenido)\n",
        "\n",
        "mostrar_contenido_archivo('carpeta_prueba/archivo.txt')"
      ],
      "metadata": {
        "colab": {
          "base_uri": "https://localhost:8080/"
        },
        "id": "2-FjxCATvM9p",
        "outputId": "657e85b1-ba12-4a79-c28b-b11d1fe4a74e"
      },
      "execution_count": null,
      "outputs": [
        {
          "output_type": "stream",
          "name": "stdout",
          "text": [
            "Contenido del archivo\n",
            " Holaaaa\n"
          ]
        }
      ]
    },
    {
      "cell_type": "markdown",
      "metadata": {
        "id": "70eXMXBqteJA"
      },
      "source": [
        "### **Ejercicio 4**\n",
        "\n",
        "Escriba una función que devuelva la cantidad de caracteres de un archivo de texto. la ruta de acceso al archivo debe ser pasada por parámetro.  \n",
        "  \n",
        "No se debe tener en cuenta el caracter `'\\n'`."
      ]
    },
    {
      "cell_type": "code",
      "source": [
        "def cantidad_caracteres(nombre_archivo):\n",
        "  with open(nombre_archivo, mode='r') as archivo:\n",
        "    contenido = archivo.read().replace('\\n','')\n",
        "    return len(contenido)\n",
        "\n",
        "cantidad_caracteres('carpeta_prueba/archivo.txt')"
      ],
      "metadata": {
        "colab": {
          "base_uri": "https://localhost:8080/"
        },
        "id": "pa2PU1zAvZx7",
        "outputId": "81f6d58b-72b9-4a92-fadb-acac1c7b2e14"
      },
      "execution_count": null,
      "outputs": [
        {
          "output_type": "execute_result",
          "data": {
            "text/plain": [
              "29"
            ]
          },
          "metadata": {},
          "execution_count": 9
        }
      ]
    },
    {
      "cell_type": "markdown",
      "metadata": {
        "id": "6Q0IMt72teJC"
      },
      "source": [
        "### **Ejercicio 5**\n",
        "\n",
        "Escribir una función que devuelva la cantidad de líneas que tiene un archivo de texto. La ruta de acceso del archivo debe ser pasada por parámetro."
      ]
    },
    {
      "cell_type": "code",
      "source": [
        "def contar_lineas(nombre_archivo):\n",
        "  with open(nombre_archivo, mode='r') as archivo:\n",
        "    contador = 0\n",
        "    contenido = archivo.read()\n",
        "    for linea in contenido:\n",
        "      if '\\n' in contenido:\n",
        "        contador += 1\n",
        "      return contador\n",
        "\n",
        "contar_lineas('carpeta_prueba/archivo.txt')\n"
      ],
      "metadata": {
        "colab": {
          "base_uri": "https://localhost:8080/"
        },
        "id": "sgoW2cytwbw0",
        "outputId": "ad6be2b4-85da-4bba-8f10-081e23ecd5d8"
      },
      "execution_count": null,
      "outputs": [
        {
          "output_type": "execute_result",
          "data": {
            "text/plain": [
              "1"
            ]
          },
          "metadata": {},
          "execution_count": 10
        }
      ]
    },
    {
      "cell_type": "markdown",
      "metadata": {
        "id": "vjptryzzteJD"
      },
      "source": [
        "### **Ejercicio 6**\n",
        "\n",
        "Escribir una función que devuelva la n-ésima línea de un archivo de texto. La ruta de acceso del archivo y el número de línea deben ser pasados por parámetro.  \n",
        "  \n",
        "Si el archivo tiene menos cantidad de líneas de lo que se pide debe mostrar un mensaje por pantalla informándolo."
      ]
    },
    {
      "cell_type": "code",
      "source": [
        "def obtener_linea_por_numero(nombre_archivo, numero_linea):\n",
        "    with open(nombre_archivo, mode='r') as archivo:\n",
        "        lineas = archivo.readlines()\n",
        "        if len(lineas) < numero_linea:\n",
        "            print(\"El archivo tiene menos líneas de las que se solicitan\")\n",
        "        else:\n",
        "            return lineas[numero_linea-1]\n",
        "\n",
        "numero_linea = 2\n",
        "linea = obtener_linea_por_numero('carpeta_prueba/archivo.txt', numero_linea)\n",
        "if linea:\n",
        "    print(f\"La línea {numero_linea} es: {linea}\")\n"
      ],
      "metadata": {
        "colab": {
          "base_uri": "https://localhost:8080/"
        },
        "id": "V3_0xjEC6z_r",
        "outputId": "06b74a94-b976-4331-c520-0e9aa39a1036"
      },
      "execution_count": null,
      "outputs": [
        {
          "output_type": "stream",
          "name": "stdout",
          "text": [
            "La línea 2 es:  Holaaaa\n"
          ]
        }
      ]
    },
    {
      "cell_type": "markdown",
      "metadata": {
        "id": "_9mvRmb1teJD"
      },
      "source": [
        "### **Ejercicio 7**\n",
        "\n",
        "Definir una clase que maneje un archivo. El nombre (ruta) del archivo debe establecerse al crear un objeto de la clase.  \n",
        "  \n",
        "La clase debe implementar:  \n",
        "  * Un método que cree el archivo. Si el archivo ya existe lo sobrescribe. Opcionalmente puede recibir un parámetro con contenido para incluir en el archivo.  \n",
        "  * Un método que permita agregar contenido al archivo.  \n",
        "  * Un método que muestre todo el contenido del archivo por pantalla.  \n",
        "  * Un método que devuelva la cantidad total de caracteres del archivo, sin contar el caracter `\\n`. Extra: hacer que este sea el método especial `__len__()`.  \n",
        "  * Una propiedad de solo lectura que devuelva la cantidad total de líneas del archivo.\n",
        "\n",
        "Instancie un objeto de la clase y utilice sus métodos."
      ]
    },
    {
      "cell_type": "code",
      "source": [
        "class ArchivoTexto:\n",
        "    def __init__(self, nombre_archivo):\n",
        "        self.nombre_archivo = nombre_archivo\n",
        "\n",
        "    def crear(self, contenido=None): #con parametro opcional\n",
        "        with open(self.nombre_archivo, mode='w') as archivo:\n",
        "            if contenido is not None:\n",
        "                archivo.write(contenido)\n",
        "\n",
        "    def agregar(self, contenido):\n",
        "        with open(self.nombre_archivo, mode='a') as archivo:\n",
        "            archivo.write(contenido)\n",
        "\n",
        "    def mostrar_contenido(self):\n",
        "        with open(self.nombre_archivo, mode='r') as archivo:\n",
        "            print(archivo.read(), end='')\n",
        "\n",
        "    def __len__(self):\n",
        "        with open(self.nombre_archivo, mode='r') as archivo:\n",
        "            return len(archivo.read().replace('\\n', ''))\n",
        "\n",
        "    @property\n",
        "    def cantidad_lineas(self):\n",
        "        with open(self.nombre_archivo, mode='r') as archivo:\n",
        "            return sum(1 for i in archivo)\n",
        "\n",
        "# Ejemplo de uso\n",
        "archivo = ArchivoTexto('carpeta_prueba/archivo_ejercicio7.txt')\n",
        "archivo.crear('Hola Mundo\\n') # es opcional el parametro \n",
        "archivo.agregar('Chaucha..\\n')\n",
        "archivo.mostrar_contenido()\n",
        "print('Cantidad de caracteres:', len(archivo))\n",
        "print('Cantidad de líneas:', archivo.cantidad_lineas)\n"
      ],
      "metadata": {
        "colab": {
          "base_uri": "https://localhost:8080/"
        },
        "id": "p4ULx2Qu9sEp",
        "outputId": "d9ada5a9-6ecd-4f0d-9b04-46a6b5352df3"
      },
      "execution_count": null,
      "outputs": [
        {
          "output_type": "stream",
          "name": "stdout",
          "text": [
            "Hola Mundo\n",
            "Chaucha..\n",
            "Cantidad de caracteres: 19\n",
            "Cantidad de líneas: 2\n"
          ]
        }
      ]
    }
  ],
  "metadata": {
    "kernelspec": {
      "display_name": "Python 3",
      "language": "python",
      "name": "python3"
    },
    "language_info": {
      "codemirror_mode": {
        "name": "ipython",
        "version": 3
      },
      "file_extension": ".py",
      "mimetype": "text/x-python",
      "name": "python",
      "nbconvert_exporter": "python",
      "pygments_lexer": "ipython3",
      "version": "3.9.1"
    },
    "orig_nbformat": 4,
    "vscode": {
      "interpreter": {
        "hash": "2a4fb80cb3c171773cd027240bb470c91e78114f9d815845cf91c954721f781f"
      }
    },
    "colab": {
      "provenance": [],
      "include_colab_link": true
    }
  },
  "nbformat": 4,
  "nbformat_minor": 0
}