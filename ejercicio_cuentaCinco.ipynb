{
  "nbformat": 4,
  "nbformat_minor": 0,
  "metadata": {
    "colab": {
      "provenance": [],
      "authorship_tag": "ABX9TyMfXNvngdOf1NSIgJGLzou8",
      "include_colab_link": true
    },
    "kernelspec": {
      "name": "python3",
      "display_name": "Python 3"
    },
    "language_info": {
      "name": "python"
    }
  },
  "cells": [
    {
      "cell_type": "markdown",
      "metadata": {
        "id": "view-in-github",
        "colab_type": "text"
      },
      "source": [
        "<a href=\"https://colab.research.google.com/github/agustinperezsap/Agustin/blob/main/ejercicio_cuentaCinco.ipynb\" target=\"_parent\"><img src=\"https://colab.research.google.com/assets/colab-badge.svg\" alt=\"Open In Colab\"/></a>"
      ]
    },
    {
      "cell_type": "code",
      "execution_count": null,
      "metadata": {
        "colab": {
          "base_uri": "https://localhost:8080/"
        },
        "id": "J3TdOIso_6M5",
        "outputId": "14da2718-5cdd-455b-c1b0-bf9bdb3ee9ed"
      },
      "outputs": [
        {
          "output_type": "stream",
          "name": "stdout",
          "text": [
            "cantidad a ingresar: 2\n",
            "Ingrese un numero:12\n",
            "Ingrese un numero:15\n",
            "1\n"
          ]
        }
      ],
      "source": [
        "# Definir una función reciba como parámetro una lista de números enteros. \n",
        "# La función deberá devolver la cantidad de números en la lista que tienen al menos un dígito igual a 5.\n",
        "# La función debe incluir el correspondiente docstring.\n",
        "# Por ejemplo, para la lista de números [1205, 1350, 2022, 1212] deberá devolver 2.\n",
        "# La función deberá tener el siguiente nombre: cuenta_cinco(lista)\n",
        "\n",
        "\n",
        "\n",
        "\n",
        "def cuenta_cinco(lista): \n",
        "  cont = 0\n",
        "  \n",
        "  for i in range(len(lista)):\n",
        "    rx = lista[i]\n",
        "    bandera = False\n",
        "    while rx != 0:\n",
        "      dig = rx%10\n",
        "      j = i\n",
        "      if dig == 5 and j  ==  i:\n",
        "        bandera = True\n",
        "      rx = rx // 10 \n",
        "    if bandera:\n",
        "      cont = cont + 1 \n",
        "  if cont > 0: \n",
        "    return cont \n",
        "  else:\n",
        "    return 0     \n",
        "\n",
        "n = int(input(\"cantidad a ingresar: \"))\n",
        "lista = []\n",
        "for i in range(n):\n",
        "  lista.append(int(input(\"Ingrese un numero:\")))\n",
        "\n",
        "print(cuenta_cinco(lista))\n",
        "\n"
      ]
    }
  ]
}