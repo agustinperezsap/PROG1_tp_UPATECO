{
  "cells": [
    {
      "cell_type": "markdown",
      "metadata": {
        "id": "view-in-github",
        "colab_type": "text"
      },
      "source": [
        "<a href=\"https://colab.research.google.com/github/agustinperezsap/Agustin/blob/main/Copia_de_03_TPTrabajoPractico2POOPerezSantiago.ipynb\" target=\"_parent\"><img src=\"https://colab.research.google.com/assets/colab-badge.svg\" alt=\"Open In Colab\"/></a>"
      ]
    },
    {
      "cell_type": "markdown",
      "metadata": {
        "id": "BMLPx2Ov8CMg"
      },
      "source": [
        "# **Trabajo Práctico 2 - Propiedades de los objetos**"
      ]
    },
    {
      "cell_type": "markdown",
      "metadata": {
        "id": "QdtEiM7l8CMi"
      },
      "source": [
        "### Ejercicio 1\n",
        "\n",
        "Para cada una de las clases creadas en el TP anterior, agregue un constructor (método `__init__`) para inicializar los valores de los atributos.  \n",
        "  \n",
        "Instancie distintos objetos de cada clase y muestre los valores de sus atributos.  \n",
        "  \n",
        "#### Por ejemplo:\n",
        "\n",
        "En la clase circulo podemos hacer que el radio sea un atributo que se deba indicar al crear un nuevo objeto.\n",
        "\n",
        "```python\n",
        "import math\n",
        "\n",
        "class Circulo:\n",
        "    \"\"\"Clase que representa un circulo.\"\"\"\n",
        "\n",
        "    def __init__(self, radio):\n",
        "        \"\"\"Recibir atributo radio del circulo por parametro.\"\"\"\n",
        "        self.radio = radio\n",
        "\n",
        "    def area(self):\n",
        "        \"\"\"Calcular el area del circulo.\"\"\"\n",
        "        return math.pi*self.radio**2    # calcula el area con el valor del atributo radio\n",
        "\n",
        "unitario = Circulo(1)\n",
        "print(unitario.radio)\n",
        "# print(unitario.area())\n",
        "```"
      ]
    },
    {
      "cell_type": "code",
      "source": [
        "class Computadora: \n",
        "  def __init__(self, marca, velociada, color):\n",
        "    self.marca = marca\n",
        "    self.velocidad = velocidad\n",
        "    self.color = color\n",
        "\n",
        "\n",
        "  def encender(self):\n",
        "    self.encendido = True\n",
        "  def apagar(self):\n",
        "    self.encendido = False\n"
      ],
      "metadata": {
        "id": "jfbV_LG7fBhP"
      },
      "execution_count": null,
      "outputs": []
    },
    {
      "cell_type": "code",
      "source": [
        "lass Gato:\n",
        "    def __init__(self, nombre, color, peso):\n",
        "      self.nombre = nombre\n",
        "      self.color = color\n",
        "      self.peso = peso\n",
        "      \n",
        "\n",
        "    def maullar(self):\n",
        "        \"\"\"Mostrar por pantalla el ladrido del perro\"\"\"\n",
        "        print(\"Miauu!\")\n",
        "\n",
        "    def correr(self):\n",
        "        \"\"\"Mostrar distancia que salta el perro.\"\"\"\n",
        "        print(\"Corri tras la pelota.\")\n",
        "    def jugar(self):\n",
        "      print(\"Jugue con la pelota\")\n",
        "    def dormir(self):\n",
        "      print(\"ZZZzzzZZZZZZ\")\n",
        "    def comer(self):\n",
        "      print(\"comiendo\")"
      ],
      "metadata": {
        "id": "Es26NZNkfdz9"
      },
      "execution_count": null,
      "outputs": []
    },
    {
      "cell_type": "code",
      "source": [
        "class Auto: \n",
        "  def __init__(self, marca, color):\n",
        "    self.marca = marca\n",
        "    self.color = color\n",
        "\n",
        "  def acelerar(self):\n",
        "    self.acelerar = True\n",
        "  def frenar(self):\n",
        "    self.acelerar = False\n",
        "  def estacionar(self):\n",
        "    print(\".:Auto estacinado:.\")"
      ],
      "metadata": {
        "id": "3BMX_x2Of1zg"
      },
      "execution_count": null,
      "outputs": []
    },
    {
      "cell_type": "code",
      "source": [
        "import math\n",
        "\n",
        "class Rectangulo:\n",
        "\n",
        "  def __init__(self, lado1, lado2)\n",
        "    self.lado1 = self.lado2 = lado1\n",
        "    self.lado3 = self.lado4 = lado2\n",
        "\n",
        "  def cargarlados(self, lado1, lado2):\n",
        "    self.lado1 = self.lado2 = lado1\n",
        "    self.lado3 = self.lado4 = lado2\n",
        "  def agrandar(self, lado1, lado2):\n",
        "    self.lado1 += lado1 \n",
        "    self.lado4 += lado2\n",
        "    self.lado2 = self.lado1\n",
        "    self.lado3 = self.lado4\n",
        "    print(f\"El tamanio del rectangulo ahora es de {self.lado1} por {self.lado3}\")\n",
        "    \n",
        "  def calcular_perimetro(self):\n",
        "    return self.lado1 * self.lado2\n",
        "    \n",
        "  def calcular_area(self):\n",
        "    return self.lado1*2 + self.lado2*2\n",
        "      \n",
        "\n",
        "# crear un objeto de la clase Circulo\n",
        "rectangulo1 = Rectangulo()\n",
        "\n",
        "# ejecutar los sus metodos\n",
        "rectangulo1.cargarlados(10, 10)\n",
        "rectangulo1.agrandar(3 , 2)\n",
        "\n"
      ],
      "metadata": {
        "id": "zz8eFKTtgNlW"
      },
      "execution_count": null,
      "outputs": []
    },
    {
      "cell_type": "code",
      "source": [
        "import math\n",
        "\n",
        "class Triangulo:\n",
        "\n",
        "  def __init__(self, lado1, lado2, lado3, tipo_triangulo):\n",
        "    self.a = lado1\n",
        "    self.b = lado2\n",
        "    self.c = lado3\n",
        "    self.tipo_triangulo = tipo_triangulo\n",
        "\n",
        "  def calcular_hipo(self):\n",
        "    if(self.tipo_triangulo == \"isosceles\"):\n",
        "      self.hipo = math.sqrt((self.a*self.a)+(self.b*self.b ))"
      ],
      "metadata": {
        "id": "QluFX7dygnj1"
      },
      "execution_count": null,
      "outputs": []
    },
    {
      "cell_type": "code",
      "source": [
        "class AgendaTelefonica:\n",
        "    def __init__(self):\n",
        "        self.contactos = {}\n",
        "\n",
        "    def agregar_contacto(self, nombre, telefono):\n",
        "        self.contactos[nombre] = telefono\n",
        "\n",
        "    def buscar_telefono(self, nombre):\n",
        "        if nombre in self.contactos:\n",
        "            return self.contactos[nombre]\n",
        "        else:\n",
        "            return None\n",
        "\n",
        "    def imprimir_agenda(self):\n",
        "        print(\"Agenda Telefónica:\")\n",
        "        for nombre, telefono in self.contactos.items():\n",
        "            print(f\"{nombre}: {telefono}\")\n",
        "\n",
        "agenda = AgendaTelefonica()\n",
        "\n",
        "agenda.agregar_contacto(\"Juan\", \"1234567890\")\n",
        "agenda.agregar_contacto(\"María\", \"0987654321\")\n",
        "agenda.agregar_contacto(\"Pedro\", \"5554443333\")\n",
        "\n",
        "print(agenda.buscar_telefono(\"María\")) \n",
        "print(agenda.buscar_telefono(\"Carlos\")) \n",
        "\n",
        "agenda.imprimir_agenda()"
      ],
      "metadata": {
        "colab": {
          "base_uri": "https://localhost:8080/"
        },
        "id": "FA23-ByMhJS7",
        "outputId": "c13958b7-edd4-4fd0-e86d-14025fc05ee3"
      },
      "execution_count": null,
      "outputs": [
        {
          "output_type": "stream",
          "name": "stdout",
          "text": [
            "0987654321\n",
            "None\n",
            "Agenda Telefónica:\n",
            "Juan: 1234567890\n",
            "María: 0987654321\n",
            "Pedro: 5554443333\n"
          ]
        }
      ]
    },
    {
      "cell_type": "markdown",
      "metadata": {
        "id": "bez6k8wS8CMj"
      },
      "source": [
        "### Ejercicio 2\n",
        "\n",
        "Crear una clase llamada Persona con los atributos: nombre, edad y DNI.  \n",
        "Diseñar los siguientes métodos para la clase:  \n",
        "\n",
        "* Un constructor, donde el DNI pueda estar sin especificar (usar un parámetro con un valor por defecto).\n",
        "* Mostrar todos los datos de una persona.\n",
        "* Determinar si es mayor de edad. O sea, debe responder un `bool`.\n",
        "\n",
        "Instanciar 5 personas con valores aleatorios de edad entre 15 y 22 años, almacenar a las personas en una lista. Luego, recorrer la lista y mostrar el **nombre** de las personas que sean mayores de edad."
      ]
    },
    {
      "cell_type": "code",
      "source": [
        "import random\n",
        "\n",
        "class Persona:\n",
        "    def __init__(self, nombre, edad, dni=None):\n",
        "        self.nombre = nombre\n",
        "        self.edad = edad\n",
        "        self.dni = dni\n",
        "\n",
        "    def mostrar_datos(self):\n",
        "        print(f\"Nombre: {self.nombre}\")\n",
        "        print(f\"Edad: {self.edad}\")\n",
        "        if self.dni is not None:\n",
        "            print(f\"DNI: {self.dni}\")\n",
        "\n",
        "    def es_mayor_de_edad(self):\n",
        "        return self.edad >= 18\n",
        "\n",
        "personas = []\n",
        "nombres = [\"Juan\", \"María\", \"Pedro\", \"Ana\", \"Luis\"]\n",
        "\n",
        "for i in range(5):\n",
        "    nombre = random.choice(nombres)\n",
        "    edad = random.randint(15, 22)\n",
        "    dni = None\n",
        "    persona = Persona(nombre, edad, dni)\n",
        "    personas.append(persona)\n",
        "\n",
        "for persona in personas:\n",
        "    if persona.es_mayor_de_edad():\n",
        "        print(persona.nombre)\n"
      ],
      "metadata": {
        "colab": {
          "base_uri": "https://localhost:8080/"
        },
        "id": "oCt4Zj0fi9eN",
        "outputId": "f48f87a5-06f7-44b3-dbe8-92543b5164e2"
      },
      "execution_count": null,
      "outputs": [
        {
          "output_type": "stream",
          "name": "stdout",
          "text": [
            "Pedro\n",
            "Ana\n",
            "Pedro\n",
            "María\n"
          ]
        }
      ]
    },
    {
      "cell_type": "markdown",
      "metadata": {
        "id": "Oa56PDiZ8CMj"
      },
      "source": [
        "### Ejercicio 3\n",
        "\n",
        "Crear una clase llamada Cuenta (representa una cuenta bancaria simplificada) que tendrá los atributos:  \n",
        "  \n",
        "* titular (el nombre del titular)  \n",
        "* saldo (puede tener decimales)  \n",
        "\n",
        "Construye los siguientes métodos para la clase:  \n",
        "\n",
        "* Un constructor. El titular será obligatorio y el saldo es opcional, si no se lo incluye al crear el objeto, se incializará en `0.0`.\n",
        "* `mostrar()`: Muestra los datos de la cuenta.\n",
        "* `ingresar(cantidad)`: se ingresa una cantidad a la cuenta, actualizando el valor de saldo, si la cantidad introducida es negativa, no se hará nada.\n",
        "* `retirar(cantidad)`: se retira una cantidad del saldo de la cuenta, el valor de cantidad siempre debe ser positivo. La cuenta puede estar en números rojos.\n",
        "\n",
        "Instanciar una `Cuenta` y realizar 10 movimientos aleatorios de ingreso y retiro y mostrar el estado final."
      ]
    },
    {
      "cell_type": "code",
      "source": [
        "import random\n",
        "\n",
        "class Cuenta:\n",
        "    def __init__(self, titular, saldo=0.0):\n",
        "        self.titular = titular\n",
        "        self.saldo = saldo\n",
        "    \n",
        "    def mostrar(self):\n",
        "        print(\"Titular: \", self.titular)\n",
        "        print(\"Saldo: \", self.saldo)\n",
        "    \n",
        "    def ingresar(self, cantidad):\n",
        "        if cantidad > 0:\n",
        "            self.saldo += cantidad\n",
        "    \n",
        "    def retirar(self, cantidad):\n",
        "        if cantidad > 0:\n",
        "            self.saldo -= cantidad\n",
        "\n"
      ],
      "metadata": {
        "id": "rTNDpueTkqDR"
      },
      "execution_count": null,
      "outputs": []
    },
    {
      "cell_type": "markdown",
      "metadata": {
        "id": "Z6PEYm-L8CMk"
      },
      "source": [
        "### Ejercicio 4\n",
        "\n",
        "Crear una clase llamada Punto con 2 atributos `x` e `y` que representen coordenadas de un punto en el [plano cartesiano](https://es.wikipedia.org/wiki/Coordenadas_cartesianas).  \n",
        "  \n",
        "Diseñar los siguientes métodos para la clase:  \n",
        "  \n",
        "* Un constructor para crear puntos fácilmente. Si no se reciben los valores de las coordenadas, su valor será cero.\n",
        "* Un método `tupla()` que devuelva una tupla con los valores de `x` e `y`, en ese orden.  \n",
        "* Añade un método llamado `cuadrante` que indique a qué cuadrante pertenece el punto, teniendo en cuenta que:\n",
        "    * si `x` == 0 e `y` != 0 se sitúa sobre el eje `y`\n",
        "    * si `x` != 0 e `y` == 0 se sitúa sobre el eje `x`\n",
        "    * y si `x` == 0 e `y` == 0 está en el origen de coordenadas\n",
        "    \n",
        "    Cuadrantes: Al cortarse las dos rectas, dividen al plano en cuatro regiones o zonas, que se conocen con el nombre de cuadrantes:  \n",
        "    * Primer cuadrante \"I\": Región superior derecha (x>0 e y>0)  \n",
        "    * Segundo cuadrante \"II\": Región superior izquierda (x<0 e y>0)  \n",
        "    * Tercer cuadrante \"III\": Región inferior izquierda (x<0 e y<0)  \n",
        "    * Cuarto cuadrante \"IV\": Región inferior derecha (x>0 e y<0)  \n",
        "    ![imagen cuadrantes plano](https://planocartesiano.net/wp-content/uploads/2017/11/cuadrantes-plano-cartesiano-signos.jpg)  \n",
        "  \n",
        "Crear 4 objetos `Punto` con valores aleatorios entre -20 y 20 para `x` e `y`, mostrar en que cuadrante o eje están situados."
      ]
    },
    {
      "cell_type": "code",
      "source": [
        "import random\n",
        "\n",
        "class Punto:\n",
        "    def __init__(self, x=0, y=0):\n",
        "        self.x = x\n",
        "        self.y = y\n",
        "        \n",
        "    def tupla(self):\n",
        "        return (self.x, self.y)\n",
        "        \n",
        "    def cuadrante(self):\n",
        "        if self.x == 0 and self.y == 0:\n",
        "            return \"Origen\"\n",
        "        elif self.x == 0:\n",
        "            return \"Eje Y\"\n",
        "        elif self.y == 0:\n",
        "            return \"Eje X\"\n",
        "        elif self.x > 0 and self.y > 0:\n",
        "            return \"Primer Cuadrante\"\n",
        "        elif self.x < 0 and self.y > 0:\n",
        "            return \"Segundo Cuadrante\"\n",
        "        elif self.x < 0 and self.y < 0:\n",
        "            return \"Tercer Cuadrante\"\n",
        "        else:\n",
        "            return \"Cuarto Cuadrante\"\n",
        "\n",
        "\n",
        "punto1 = Punto(random.randint(-20, 20), random.randint(-20, 20))\n",
        "punto2 = Punto(random.randint(-20, 20), random.randint(-20, 20))\n",
        "punto3 = Punto(random.randint(-20, 20), random.randint(-20, 20))\n",
        "punto4 = Punto(random.randint(-20, 20), random.randint(-20, 20))\n",
        "\n",
        "print(\"Punto 1:\", punto1.tupla(), \"está en el\", punto1.cuadrante())\n",
        "print(\"Punto 2:\", punto2.tupla(), \"está en el\", punto2.cuadrante())\n",
        "print(\"Punto 3:\", punto3.tupla(), \"está en el\", punto3.cuadrante())\n",
        "print(\"Punto 4:\", punto4.tupla(), \"está en el\", punto4.cuadrante())\n"
      ],
      "metadata": {
        "id": "0aDShrtmmgGN"
      },
      "execution_count": null,
      "outputs": []
    },
    {
      "cell_type": "markdown",
      "metadata": {
        "id": "v1757QJH8CMl"
      },
      "source": [
        "### Ejercicio 5\n",
        "\n",
        "Agregar un método llamado `distancia()` a la clase del ejercicio anterior, que reciba otro objeto `Punto` como parámetro, que mida y devuelva la distancia, en `float`, entre ese `Punto` y el `Punto` que está llamando al método. O sea, que se lo pueda usar de la siguiente manera:  \n",
        "```python\n",
        "punto1 = Punto()  # sin parámetros creará un punto en (0, 0) segun la consigna\n",
        "punto2 = Punto(1, 1)  # crea un punto en (1, 1)\n",
        "print(f\"La distancia entre {punto1.tupla()} y {punto2.tupla()} es: {punto1.distancia(punto2)}\")\n",
        "```\n",
        "Puedes utilizar el método `tupla()` creado anteriormente para facilitar el calculo con la función `dist()` del módulo `math` (usada en el ejercicio 5 de Trabajo Práctico 5 del Módulo 2) para calcular la distancia entre dos puntos."
      ]
    },
    {
      "cell_type": "code",
      "source": [
        "import random\n",
        "\n",
        "class Punto:\n",
        "    def __init__(self, x=0, y=0):\n",
        "        self.x = x\n",
        "        self.y = y\n",
        "        \n",
        "    def tupla(self):\n",
        "        return (self.x, self.y)\n",
        "        \n",
        "    def cuadrante(self):\n",
        "        if self.x == 0 and self.y == 0:\n",
        "            return \"Origen\"\n",
        "        elif self.x == 0:\n",
        "            return \"Eje Y\"\n",
        "        elif self.y == 0:\n",
        "            return \"Eje X\"\n",
        "        elif self.x > 0 and self.y > 0:\n",
        "            return \"Primer Cuadrante\"\n",
        "        elif self.x < 0 and self.y > 0:\n",
        "            return \"Segundo Cuadrante\"\n",
        "        elif self.x < 0 and self.y < 0:\n",
        "            return \"Tercer Cuadrante\"\n",
        "        else:\n",
        "            return \"Cuarto Cuadrante\"\n",
        "\n",
        "    def distancia(self, punto):\n",
        "      return  (self.x - punto.x, self.y - punto.y)\n",
        "\n",
        "\n",
        "punto1 = Punto(random.randint(-20, 20), random.randint(-20, 20))\n",
        "punto2 = Punto(random.randint(-20, 20), random.randint(-20, 20))\n",
        "\n",
        "print(f\"La distancia entre {punto1.tupla()} y {punto2.tupla()} es: {punto1.distancia(punto2)}\")\n",
        "\n",
        "\n"
      ],
      "metadata": {
        "colab": {
          "base_uri": "https://localhost:8080/"
        },
        "id": "sZuqtdfim6Sw",
        "outputId": "733b6327-8adb-4782-e01a-0cacc2c5180a"
      },
      "execution_count": null,
      "outputs": [
        {
          "output_type": "stream",
          "name": "stdout",
          "text": [
            "La distancia entre (-7, -7) y (8, 8) es: (-15, -15)\n"
          ]
        }
      ]
    },
    {
      "cell_type": "markdown",
      "metadata": {
        "id": "QbgSbA9t8CMm"
      },
      "source": [
        "### Ejercicio 6\n",
        "\n",
        "Crear una clase `Personaje` que tenga los atributos:\n",
        "  * nombre: una cadena\n",
        "  * vida: un entero que inicia siempre con el valor 100, no puede ser mayor a 100 ni menor a 0.\n",
        "  * nivel: inicia en 1\n",
        "  * experiencia: inicia en 0\n",
        "  * fuerza: inicia en 1\n",
        "\n",
        "Y que tenga los métodos:\n",
        "  * Un constructor que tome unicamente el nombre del personaje como parámetro, pero que inicialice los demas atributos en los valores iniciales detallados anteriormente.\n",
        "  * Un método `recibir_golpe()` que reciba un entero como parámetro que indique la fuerza del golpe recibido y reste el valor de la `vida` del personaje. Despues de restar el valor mostrar en un mensaje cuanta `vida` queda, si el valor de `vida` llega a 0 o menos, dejarlo en 0 y mostrar un mensaje que diga `\"Game over\"`.\n",
        "  * Un método `reponer_vida()` que reciba un entero como parámetro que indique la cantidad de vida que se va a reponer en el personaje y mostrar por pantalla el valor actual de `vida`. Recordar que `vida` no puede ser mayor que 100. Si el valor de `vida` ya estaba en `0` (o sea, si ya estaba muerto) volver a mostrar el mensaje `\"Game over\"`.  \n",
        "  * Un método `golpear()` que reciba un entero que represente la vida de un enemigo, y le reste el valor de `fuerza` del personaje. Si la vida del enemigo era menor o igual que la fuerza del personaje (lo mata de un solo golpe) mostrar por pantalla el mensaje `\"Has matado a un enemigo\"` y ejecutar el método `ganar_exp()` pasando como parámetro el valor de vida del enemigo. Si el valor de `vida` del personaje ya estaba en `0` (o sea, si ya estaba muerto) volver a mostrar el mensaje `\"Game over\"`.  \n",
        "  * Un método `ganar_exp()` que reciba un entero que representa la experiencia ganada. Sumar el valor al atributo experiencia y al atributo fuerza y mostrar por pantalla el mensaje `\"Ganaste X puntos de experiencia y fuerza\"`. Si la experiencia llega a 10 o más llamar al método `subir_nivel()` y volver a colocar el atributo `experiencia` a 0.\n",
        "  * Un método `subir_nivel()` que incremente el valor del atributio `nivel` en 1 y muestre por pantalla el mensaje `\"Level up! Estás en el nivel X\"`. Si el nivel llega a 10 mostrar por pantalla el mensaje `\"Nivel máximo alcanzado. Felicidades {nombre}! Reseteando.\"` Y volver el `nivel` a 1.\n",
        "\n",
        "Instanciar un personaje (o más) y ejecutar algunos de sus métodos para hacerlo subir de nivel."
      ]
    },
    {
      "cell_type": "code",
      "source": [
        "class Personaje:\n",
        "    def __init__(self, nombre):\n",
        "        self.nombre = nombre\n",
        "        self.vida = 100\n",
        "        self.nivel = 1\n",
        "        self.experiencia = 0\n",
        "        self.fuerza = 1\n",
        "    \n",
        "    def recibir_golpe(self, golpe):\n",
        "        self.vida -= golpe\n",
        "        if self.vida <= 0:\n",
        "            self.vida = 0\n",
        "            print(\"Game over\")\n",
        "        else:\n",
        "            print(f\"Vida restante: {self.vida}\")\n",
        "    \n",
        "    def reponer_vida(self, cantidad):\n",
        "        if self.vida == 0:\n",
        "            print(\"Game over\")\n",
        "        else:\n",
        "            self.vida = min(self.vida + cantidad, 100)\n",
        "            print(f\"Vida actual: {self.vida}\")\n",
        "    \n",
        "    def golpear(self, vida_enemigo):\n",
        "        vida_enemigo -= self.fuerza\n",
        "        if vida_enemigo <= 0:\n",
        "            print(\"Has matado a un enemigo\")\n",
        "            self.ganar_exp(vida_enemigo * -1)\n",
        "        else:\n",
        "            print(\"El enemigo sigue vivo\")\n",
        "    \n",
        "    def ganar_exp(self, exp):\n",
        "        self.experiencia += exp\n",
        "        self.fuerza += exp\n",
        "        print(f\"Ganaste {exp} puntos de experiencia y fuerza\")\n",
        "        if self.experiencia >= 10:\n",
        "            self.subir_nivel()\n",
        "            self.experiencia = 0\n",
        "    \n",
        "    def subir_nivel(self):\n",
        "        self.nivel += 1\n",
        "        if self.nivel == 10:\n",
        "            print(f\"Nivel máximo alcanzado. Felicidades {self.nombre}! Reseteando.\")\n",
        "            self.nivel = 1\n",
        "        else:\n",
        "            print(f\"Level up! Estás en el nivel {self.nivel}\")\n",
        "\n",
        "p1 = Personaje(\"Gohan\")\n",
        "p1.reponer_vida(50)  # Vida actual: 100\n",
        "p1.recibir_golpe(20) # Vida restante: 80\n",
        "p1.golpear(5)        # Has matado a un enemigo. Ganaste 5 puntos de experiencia y fuerza.\n",
        "p1.ganar_exp(9)      # Ganaste 9 puntos de experiencia y fuerza.\n",
        "p1.ganar_exp(1)      # Level up! Estás en el nivel 2\n"
      ],
      "metadata": {
        "id": "boQ3AJrhovi7"
      },
      "execution_count": null,
      "outputs": []
    }
  ],
  "metadata": {
    "kernelspec": {
      "display_name": "Python 3",
      "language": "python",
      "name": "python3"
    },
    "language_info": {
      "codemirror_mode": {
        "name": "ipython",
        "version": 3
      },
      "file_extension": ".py",
      "mimetype": "text/x-python",
      "name": "python",
      "nbconvert_exporter": "python",
      "pygments_lexer": "ipython3",
      "version": "3.9.1"
    },
    "orig_nbformat": 4,
    "vscode": {
      "interpreter": {
        "hash": "2a4fb80cb3c171773cd027240bb470c91e78114f9d815845cf91c954721f781f"
      }
    },
    "colab": {
      "provenance": [],
      "include_colab_link": true
    }
  },
  "nbformat": 4,
  "nbformat_minor": 0
}