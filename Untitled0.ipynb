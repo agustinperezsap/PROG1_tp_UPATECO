{
  "nbformat": 4,
  "nbformat_minor": 0,
  "metadata": {
    "colab": {
      "provenance": [],
      "authorship_tag": "ABX9TyNMMpOY0QZJCV/Oi+wONf1B",
      "include_colab_link": true
    },
    "kernelspec": {
      "name": "python3",
      "display_name": "Python 3"
    },
    "language_info": {
      "name": "python"
    }
  },
  "cells": [
    {
      "cell_type": "markdown",
      "metadata": {
        "id": "view-in-github",
        "colab_type": "text"
      },
      "source": [
        "<a href=\"https://colab.research.google.com/github/agustinperezsap/Agustin/blob/main/Untitled0.ipynb\" target=\"_parent\"><img src=\"https://colab.research.google.com/assets/colab-badge.svg\" alt=\"Open In Colab\"/></a>"
      ]
    },
    {
      "cell_type": "code",
      "execution_count": null,
      "metadata": {
        "colab": {
          "base_uri": "https://localhost:8080/"
        },
        "id": "Qd2BD07IzLoc",
        "outputId": "79a6013f-82f1-40c9-ac62-46996b0fbde6"
      },
      "outputs": [
        {
          "output_type": "stream",
          "name": "stdout",
          "text": [
            "0\n",
            "Se han hecho 5 tazas de café\n",
            "5\n",
            "Se han servido 3 tazas de café\n",
            "2\n",
            "Se han hecho 8 tazas de café\n",
            "10\n",
            "Se han servido 5 tazas de café\n",
            "5\n",
            "La cafetera está vacía. No se pueden servir más tazas de café.\n",
            "0\n"
          ]
        }
      ],
      "source": [
        "class Cafetera:\n",
        "    def __init__(self, capacidad_maxima):\n",
        "        self.capacidad_maxima = capacidad_maxima\n",
        "        self.cantidad_actual = 0\n",
        "        \n",
        "    def __len__(self):\n",
        "        return self.cantidad_actual\n",
        "        \n",
        "    def hacer_cafe(self, cantidad):\n",
        "        if cantidad <= self.capacidad_maxima - self.cantidad_actual:\n",
        "            self.cantidad_actual += cantidad\n",
        "            print(f\"Se han hecho {cantidad} tazas de café\")\n",
        "        else:\n",
        "            self.cantidad_actual = self.capacidad_maxima\n",
        "            print(\"La cafetera se ha llenado. No se pueden hacer más tazas de café.\")\n",
        "        \n",
        "    def servir_cafe(self, cantidad):\n",
        "        if cantidad <= self.cantidad_actual:\n",
        "            self.cantidad_actual -= cantidad\n",
        "            print(f\"Se han servido {cantidad} tazas de café\")\n",
        "        else:\n",
        "            self.cantidad_actual = 0\n",
        "            print(\"La cafetera está vacía. No se pueden servir más tazas de café.\")\n",
        "\n",
        "\n",
        "cafetera = Cafetera(10)\n",
        "print(len(cafetera)) # imprime 0\n",
        "\n",
        "cafetera.hacer_cafe(5) # imprime \"Se han hecho 5 tazas de café\"\n",
        "print(len(cafetera)) # imprime 5\n",
        "\n",
        "cafetera.servir_cafe(3) # imprime \"Se han servido 3 tazas de café\"\n",
        "print(len(cafetera)) # imprime 2\n",
        "\n",
        "cafetera.hacer_cafe(8) # imprime \"La cafetera se ha llenado. No se pueden hacer más tazas de café.\"\n",
        "print(len(cafetera)) # imprime 10\n",
        "\n",
        "cafetera.servir_cafe(5) # imprime \"Se han servido 5 tazas de café\"\n",
        "print(len(cafetera)) # imprime 5\n",
        "\n",
        "cafetera.servir_cafe(10) # imprime \"La cafetera está vacía. No se pueden servir más tazas de café.\"\n",
        "print(len(cafetera)) # imprime 0"
      ]
    }
  ]
}