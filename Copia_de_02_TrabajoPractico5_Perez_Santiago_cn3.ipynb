{
  "cells": [
    {
      "cell_type": "markdown",
      "metadata": {
        "id": "view-in-github",
        "colab_type": "text"
      },
      "source": [
        "<a href=\"https://colab.research.google.com/github/agustinperezsap/Agustin/blob/main/Copia_de_02_TrabajoPractico5_Perez_Santiago_cn3.ipynb\" target=\"_parent\"><img src=\"https://colab.research.google.com/assets/colab-badge.svg\" alt=\"Open In Colab\"/></a>"
      ]
    },
    {
      "cell_type": "markdown",
      "id": "b205b89c-c719-446d-bdfc-495dcd500249",
      "metadata": {
        "id": "b205b89c-c719-446d-bdfc-495dcd500249"
      },
      "source": [
        "# **Trabajo Práctico 5 - Funciones Parte 2**\n"
      ]
    },
    {
      "cell_type": "markdown",
      "id": "00e7ef1a",
      "metadata": {
        "id": "00e7ef1a"
      },
      "source": [
        "## **Ejercicio 1:**\n",
        "\n",
        "Definir una función que reciba una cantidad variable de parametros posicionales y que los muestre por pantalla."
      ]
    },
    {
      "cell_type": "code",
      "source": [
        "\n",
        "def cosas(*args):\n",
        "  for i in args:\n",
        "    print(i)\n",
        "\n",
        "cosas(\"Lionel Messi\", \"Dibu Martinez\", \"Angel Di María\", \"Lautaro Martinez\")"
      ],
      "metadata": {
        "colab": {
          "base_uri": "https://localhost:8080/"
        },
        "id": "KM-aPKgkiPN4",
        "outputId": "7972ca43-ebb9-455d-94fb-197db98439fe"
      },
      "id": "KM-aPKgkiPN4",
      "execution_count": null,
      "outputs": [
        {
          "output_type": "stream",
          "name": "stdout",
          "text": [
            "Lionel Messi\n",
            "Dibu Martinez\n",
            "Angel Di María\n",
            "Lautaro Martinez\n"
          ]
        }
      ]
    },
    {
      "cell_type": "markdown",
      "id": "936bf61b-3d04-41fc-8b1d-6dda47c928c5",
      "metadata": {
        "id": "936bf61b-3d04-41fc-8b1d-6dda47c928c5"
      },
      "source": [
        "## **Ejercicio 2:**\n",
        "\n",
        "Definir una función que devuelva el promedio de una cantidad variable de números recibidos como parámetros posicionales de la función."
      ]
    },
    {
      "cell_type": "code",
      "source": [
        "\n",
        "def promedio(*numeros):\n",
        "    cantidad_de_elementos = len(numeros)\n",
        "    if cantidad_de_elementos <= 0:\n",
        "        return 0\n",
        "    suma = 0\n",
        "    for numero in numeros:\n",
        "        suma += numero\n",
        "    return suma / cantidad_de_elementos\n",
        "\n",
        "\n",
        "print(promedio(20, 1500)) \n",
        "\n"
      ],
      "metadata": {
        "id": "465URhYoP8e3"
      },
      "id": "465URhYoP8e3",
      "execution_count": null,
      "outputs": []
    },
    {
      "cell_type": "markdown",
      "id": "4d837ca4",
      "metadata": {
        "id": "4d837ca4"
      },
      "source": [
        "## Librería Estándar"
      ]
    },
    {
      "cell_type": "markdown",
      "id": "5c14d33e",
      "metadata": {
        "id": "5c14d33e"
      },
      "source": [
        "## **Ejercicio 3:**\n",
        "\n",
        "Diseñe una función que simule el lanzamiento de una moneda, debe devolver la cadena `'cara'` o `'ceca'` cada vez que se la llame.  \n",
        "  \n",
        "Utilice el módulo `random` para que la toma de decisión sea aleatoria.  "
      ]
    },
    {
      "cell_type": "code",
      "source": [
        "import random \n",
        "\n",
        "def cara_ceca(intentos):\n",
        "  cara = 0\n",
        "  ceca = 0\n",
        "  for i in range(intentos):\n",
        "    tiro = random.choice(['cara', 'ceca'])\n",
        "    if tiro == 'cara':\n",
        "      cara = cara + 1\n",
        "    elif tiro == 'ceca':\n",
        "      ceca = ceca + 1\n",
        "  print(f'Han salido {ceca} ceca y {cara} de cara')\n",
        "    \n",
        "print(cara_ceca(5))\n",
        "\n"
      ],
      "metadata": {
        "colab": {
          "base_uri": "https://localhost:8080/"
        },
        "id": "p0AW6PEPRSIk",
        "outputId": "a4c169da-0b3d-4288-9465-777d200a0423"
      },
      "id": "p0AW6PEPRSIk",
      "execution_count": null,
      "outputs": [
        {
          "output_type": "stream",
          "name": "stdout",
          "text": [
            "Han salido 3 ceca y 2 de cara\n",
            "None\n"
          ]
        }
      ]
    },
    {
      "cell_type": "markdown",
      "id": "6303c41b",
      "metadata": {
        "id": "6303c41b"
      },
      "source": [
        "## **Ejercicio 4:**\n",
        "\n",
        "Diseñe una función que calcule las raíces de una ecuación cuadrática. La función debe recibir los coeficientes `a`, `b` y `c` de una ecuación cuadrática que tiene la forma: ax<sup>2</sup> + bx + c. Y debe devolver una tupla con las dos raíces.  \n",
        "  \n",
        "La fórmula para calcular las raíces de una ecuación cuadrática es:  \n",
        "  \n",
        "![img formula raices](https://i.ibb.co/QDK9ghx/raices-ecuacion-cuadratica3.png)  \n",
        "  \n",
        "Utilice el módulo `math` para calcular la raiz cuadrada."
      ]
    },
    {
      "cell_type": "markdown",
      "id": "073a0e47",
      "metadata": {
        "id": "073a0e47"
      },
      "source": [
        "## **Ejercicio 5:**\n",
        "\n",
        "Escriba una función que indique cuales dos puntos (del plano cartesiano) se encuentran a menor distancia y cual es la distancia, de una lista con una cantidad indefinida de puntos pasada como parámetro.  \n",
        "  \n",
        "Los puntos deben estar representados como tuplas de 2 números.  \n",
        "  \n",
        "Usar una función del módulo `math` para calcular la distancia."
      ]
    },
    {
      "cell_type": "markdown",
      "id": "8d28048c",
      "metadata": {
        "id": "8d28048c"
      },
      "source": [
        "## **Ejercicio 6:**\n",
        "\n",
        "Escriba una función que simule el lanzamiento de 2 dados. Cada vez que se llame debe responder un número del 2 al 12, que sea la suma de los valores obtenidos de los 2 dados. Estos valores deben ser obtenidos aleatoriamente."
      ]
    },
    {
      "cell_type": "markdown",
      "id": "e2942ea0",
      "metadata": {
        "id": "e2942ea0"
      },
      "source": [
        "## Funciones anónimas (opcional)\n",
        "\n",
        "Las soluciones de los ejercicios a continuación deberán implementar funciones lambda, funciones de orden superior (`map()`,`filter()`) y/o funciones que empleen los parámetros **\\*args** y **\\*\\*kwargs**."
      ]
    },
    {
      "cell_type": "markdown",
      "id": "02a24319-7505-4b4e-a5d1-c5ca2f896263",
      "metadata": {
        "id": "02a24319-7505-4b4e-a5d1-c5ca2f896263"
      },
      "source": [
        "## **Ejercicio 7:**\n",
        "\n",
        "Se solicita implementar una función que permita formatear una `cadena` de manera tal que se vean removidos una serie de `caracteres` no deseados, además buscamos que dicha `cadena` solo contenga letras minúsculas.\n",
        "\n",
        "Para esto se cuenta la siguiente función lambda:"
      ]
    },
    {
      "cell_type": "code",
      "source": [
        "\n",
        "\n",
        "cadena = lambda l: l.lower() and l.replace(\"<\",\"\").replace(\"&\",\"\").replace(\">\",\"\").replace(\"/\",\"\").replace(\"(\",\"\").replace(\";\",\"\").replace(\":\",\"\").replace(\"'\",\"\").replace(\"[\",\"\").replace(\"]\",\"\").replace(\"{\",\"\").replace(\"}\",\"\").replace(\"=\",\"\").replace(\"+\",\"\").replace(\"-\",\"\").replace(\"%\",\"\").replace(\"$\",\"\").replace(\"#\",\"\").replace(\"_\",\"\")\n",
        "\n",
        "print(cadena(\"Ho{la%, #Tod$$o Bie_n?\"))\n",
        "\n",
        "\n",
        "\n"
      ],
      "metadata": {
        "colab": {
          "base_uri": "https://localhost:8080/"
        },
        "id": "wRkRx3PDbNqz",
        "outputId": "6e211ab0-f21a-47df-a13b-44a947c421db"
      },
      "id": "wRkRx3PDbNqz",
      "execution_count": null,
      "outputs": [
        {
          "output_type": "stream",
          "name": "stdout",
          "text": [
            "Hola, Todo Bien?\n"
          ]
        }
      ]
    },
    {
      "cell_type": "markdown",
      "id": "23c95731-2dd1-4fb9-b134-889768a02901",
      "metadata": {
        "id": "23c95731-2dd1-4fb9-b134-889768a02901"
      },
      "source": [
        "La cantidad de caracteres ingresados puede ser variable, por lo cual deberemos implementar una función que emplee el parámetro **\\*args**:"
      ]
    },
    {
      "cell_type": "markdown",
      "id": "61ed5b82-c104-4f03-a257-3a6912dca0c8",
      "metadata": {
        "id": "61ed5b82-c104-4f03-a257-3a6912dca0c8"
      },
      "source": [
        "## **Ejercicio 8:**\n",
        "Definir una función lambda que permita determinar si un `caracter` es una vocal. Es decir, devolverá `True` si el `caracter` es una vocal y `False` en caso contrario.\n",
        "   - La vocal puede estar en mayúscula\n",
        "   - La vocal puede estar en minúscula\n",
        "   - La vocal puede llevar una tilde"
      ]
    },
    {
      "cell_type": "markdown",
      "id": "5c996dfc-20d9-45d0-b57d-14e75fc407fb",
      "metadata": {
        "id": "5c996dfc-20d9-45d0-b57d-14e75fc407fb"
      },
      "source": [
        "## **Ejercicio 9:**\n",
        "\n",
        "Definir una función lambda que permita determinar si un `caracter` es una letra minúscula. Consideramos que los caracteres no llevarán tilde.\n",
        "\n",
        "**Ayuda:** el **operador de pertenencia** puede serte de utilidad para resolver este ejercicio."
      ]
    },
    {
      "cell_type": "code",
      "source": [
        "\n",
        "verificar = lambda l: l[::-1] in l\n",
        "\n",
        "print(verificar(\"asdsdaada\"))\n",
        "\n"
      ],
      "metadata": {
        "colab": {
          "base_uri": "https://localhost:8080/"
        },
        "id": "pYS5cLwC7-fe",
        "outputId": "b94ef83f-af5f-4564-a90a-233798556f49"
      },
      "id": "pYS5cLwC7-fe",
      "execution_count": null,
      "outputs": [
        {
          "output_type": "stream",
          "name": "stdout",
          "text": [
            "False\n"
          ]
        }
      ]
    },
    {
      "cell_type": "markdown",
      "id": "7848c27b-a133-49ef-9a8f-75c696c72d8d",
      "metadata": {
        "id": "7848c27b-a133-49ef-9a8f-75c696c72d8d"
      },
      "source": [
        "## **Ejercicio 10:**\n",
        "\n",
        "Definir una función lambda que permita determinar si una `cadena` contiene al menos una letra minúscula. Consideramos que la `cadena` no contiene caracteres con tilde.\n",
        "\n",
        "**Ayuda:** puedes usar `map()` o `filter()` junto a la función lambda implementada en el ejercicio anterior."
      ]
    },
    {
      "cell_type": "markdown",
      "id": "88ab45f0-e516-4a84-b2a4-e4e564a0cb2d",
      "metadata": {
        "id": "88ab45f0-e516-4a84-b2a4-e4e564a0cb2d"
      },
      "source": [
        "## **Ejercicio 11:**\n",
        "\n",
        "Definir una función lambda que permita determinar si un `caracter` es una letra mayúscula. Consideramos que los caracteres no llevarán tilde.\n",
        "\n",
        "**Ayuda:** el **operador de pertenencia** puede serte de utilidad para resolver este ejercicio."
      ]
    },
    {
      "cell_type": "markdown",
      "id": "4b13a04d-bb7b-48d2-966f-049098ac5190",
      "metadata": {
        "id": "4b13a04d-bb7b-48d2-966f-049098ac5190"
      },
      "source": [
        "## **Ejercicio 12:**\n",
        "\n",
        "Definir una función lambda que permita determinar si una `cadena` contiene al menos una letra mayúscula. Consideramos que la `cadena` no contiene caracteres con tilde.\n",
        "\n",
        "**Ayuda:** puedes usar `map()` o `filter()` junto a la función lambda implementada en el ejercicio anterior."
      ]
    },
    {
      "cell_type": "markdown",
      "id": "044f1441-def4-4cca-85ab-25f63860cb5c",
      "metadata": {
        "id": "044f1441-def4-4cca-85ab-25f63860cb5c"
      },
      "source": [
        "## **Ejercicio 13:**\n",
        "\n",
        "Definir una función lambda que permita determinar si un `caracter` es un dígito.\n",
        "\n",
        "**Ayuda:** el **operador de pertenencia** puede serte de utilidad para resolver este ejercicio."
      ]
    },
    {
      "cell_type": "markdown",
      "id": "d6614888-370f-4007-b977-5cfeff220cf6",
      "metadata": {
        "id": "d6614888-370f-4007-b977-5cfeff220cf6"
      },
      "source": [
        "## **Ejercicio 14:**\n",
        "\n",
        "Definir una función lambda que permita determinar si una `cadena` contiene al menos un dígito.\n",
        "\n",
        "**Ayuda:** puedes usar `map()` o `filter()` junto a la función lambda implementada en el ejercicio anterior."
      ]
    },
    {
      "cell_type": "markdown",
      "id": "64b4fa89-b991-461a-8ea5-2ed27d29d801",
      "metadata": {
        "id": "64b4fa89-b991-461a-8ea5-2ed27d29d801"
      },
      "source": [
        "## **Ejercicio 15:**\n",
        "\n",
        "Definir una función lambda que permita determinar si un `caracter` es no alfanumérico. Es decir, si el carácter es alguno de los siguientes símbolos **¡ ! # $ % & ' ( ) * + , - . / : ; < = > ¿ ? @ [ \\ ] ^ _` { | } ~**\n",
        "\n",
        "**Ayuda:** el **operador de pertenencia** puede serte de utilidad para resolver este ejercicio."
      ]
    },
    {
      "cell_type": "code",
      "source": [
        "\n",
        "\n"
      ],
      "metadata": {
        "id": "DS-WD_1IJfkK"
      },
      "id": "DS-WD_1IJfkK",
      "execution_count": null,
      "outputs": []
    },
    {
      "cell_type": "markdown",
      "id": "f37cc612-996f-46db-a46a-b2fba344aff1",
      "metadata": {
        "id": "f37cc612-996f-46db-a46a-b2fba344aff1"
      },
      "source": [
        "## **Ejercicio 16:**\n",
        "\n",
        "Definir una función lambda que permita determinar si una `cadena` contiene al carácter no alfanumérico.\n",
        "\n",
        "**Ayuda:** puedes usar `map()` o `filter()` junto a la función lambda implementada en el ejercicio anterior."
      ]
    },
    {
      "cell_type": "markdown",
      "id": "50b1fc21-daa2-43ce-9d2a-d390d157cfb5",
      "metadata": {
        "id": "50b1fc21-daa2-43ce-9d2a-d390d157cfb5"
      },
      "source": [
        "## **Ejercicio 17:**\n",
        "\n",
        "Definir una función lambda que permita determinar si una `cadena` tiene entre `n` y`m` caracteres. Consideramos que la cantidad de caracteres puede ser igual a `n` o `m`. Por defecto tomaremos 8 caracteres como cantidad mínima (`n=8`) y 16 caracteres como cantidad máxima (`m=16`)."
      ]
    },
    {
      "cell_type": "markdown",
      "id": "2197942f-0745-4846-bd56-96a2685650b3",
      "metadata": {
        "id": "2197942f-0745-4846-bd56-96a2685650b3"
      },
      "source": [
        "## **Ejercicio 18:**\n",
        "\n",
        "Definir una función lambda para determinar si una `contraseña` es válida. Una `contraseña` es válida si y sólo si:\n",
        "- Contiene al menos un carácter alfabético en minúscula (sin tilde)\n",
        "- Contiene al menos un carácter alfabético en mayúscula (sin tilde)\n",
        "- Contiene al menos un carácter numérico\n",
        "- Contiene al menos un carácter no alfanumérico (**! \" # $ % & ' ( ) * + , - . / : ; < = > ? @ [ \\ ] ^ _` { | } ~**)\n",
        "- Contiene al menos 8 caracteres, pero no más de 16\n",
        "\n",
        "**Ayuda:** puedes emplear `map()` y algunas de las funciones implementadas anteriormente para resolver este ejercicio."
      ]
    }
  ],
  "metadata": {
    "kernelspec": {
      "display_name": "Python 3",
      "language": "python",
      "name": "python3"
    },
    "language_info": {
      "codemirror_mode": {
        "name": "ipython",
        "version": 3
      },
      "file_extension": ".py",
      "mimetype": "text/x-python",
      "name": "python",
      "nbconvert_exporter": "python",
      "pygments_lexer": "ipython3",
      "version": "3.9.1 (tags/v3.9.1:1e5d33e, Dec  7 2020, 17:08:21) [MSC v.1927 64 bit (AMD64)]"
    },
    "vscode": {
      "interpreter": {
        "hash": "2a4fb80cb3c171773cd027240bb470c91e78114f9d815845cf91c954721f781f"
      }
    },
    "colab": {
      "provenance": [],
      "include_colab_link": true
    }
  },
  "nbformat": 4,
  "nbformat_minor": 5
}