{
  "cells": [
    {
      "cell_type": "markdown",
      "metadata": {
        "id": "view-in-github",
        "colab_type": "text"
      },
      "source": [
        "<a href=\"https://colab.research.google.com/github/agustinperezsap/Agustin/blob/main/Copia_de_04_TrabajoPractico2MANEJO_ARCHIVOS_PEREZ_SATIAGO.ipynb\" target=\"_parent\"><img src=\"https://colab.research.google.com/assets/colab-badge.svg\" alt=\"Open In Colab\"/></a>"
      ]
    },
    {
      "cell_type": "markdown",
      "metadata": {
        "id": "kUSjScb40TX-"
      },
      "source": [
        "# Trabajo Práctico 2 - Archivos Pt. 2\n",
        "\n",
        "Para cada clase, método o función creada en este Trabajo Práctico, se pide que se incluya su correspondiente docstring."
      ]
    },
    {
      "cell_type": "markdown",
      "metadata": {
        "id": "oB4c3ZNu0TYA"
      },
      "source": [
        "### **Ejercicio 1**\n",
        "\n",
        "Crear una función que permita al usuario ingresar por teclado cuantas cadenas quiera e ir almacenándolas como líneas en un archivo de texto. La ruta de acceso del archivo se debe pasar por parámetro. El archivo debe crearse si no existe y cada nueva línea debe agregarse al final del archivo.  \n",
        "  \n",
        "Solicitar reiteradamente al usuario por una nueva cadena hasta que decida no continuar."
      ]
    },
    {
      "cell_type": "code",
      "source": [
        "def agregar_lineas_archivo(nombre_archivo):\n",
        "    with open(nombre_archivo, 'a') as archivo:\n",
        "        while True:\n",
        "            linea = input(\"Ingrese una cadena de texto (o presione Enter para terminar): \")\n",
        "            if not linea:\n",
        "                break\n",
        "            archivo.write(linea + '\\n')\n",
        "        print(\"Las líneas se han agregado al archivo exitosamente.\")\n",
        "\n",
        "with open('carpeta_prueba/prueba.txt', mode='w') as fo:\n",
        "  fo.write('hola')\n",
        "\n",
        "agregar_lineas_archivo('carpeta_prueba/prueba.txt')"
      ],
      "metadata": {
        "id": "3ySPNNoXGT8P",
        "colab": {
          "base_uri": "https://localhost:8080/"
        },
        "outputId": "98c54fa8-33eb-4009-9e5c-446304a4b6b5"
      },
      "execution_count": null,
      "outputs": [
        {
          "output_type": "stream",
          "name": "stdout",
          "text": [
            "Ingrese una cadena de texto (o presione Enter para terminar): mundooo\n",
            "Ingrese una cadena de texto (o presione Enter para terminar): \n",
            "Las líneas se han agregado al archivo exitosamente.\n"
          ]
        }
      ]
    },
    {
      "cell_type": "markdown",
      "source": [],
      "metadata": {
        "id": "MBGZHiV1Asxf"
      }
    },
    {
      "cell_type": "markdown",
      "metadata": {
        "id": "vduTHytS0TYC"
      },
      "source": [
        "### **Ejercicio 2**\n",
        "\n",
        "Defina una función que permita **crear** un archivo en formato JSON llamado `archivo_cumples.json` y **guardar** nombre y fecha de nacimiento de distintas personas. El nombre del archivo se debe pasar como parámetro. Los datos de las personas se pasan a la función en una lista de diccionarios. Los diccionarios deben tener la estructura que se muestra en el ejemplo siguiente.  \n",
        "  \n",
        "  \n",
        "```python\n",
        "cumples = [{\"nombre\": \"Juan Perez\", \"fecha_nac\": \"15/02/98\"},\n",
        "           {\"nombre\": \"Esteban Quito\",\"fecha_nac\": \"08/07/95\"}]\n",
        "```\n",
        "  \n",
        "Se debe poder usar de la siguiente forma:  \n",
        "  \n",
        "```python\n",
        "crear_archivo_cumples(\"archivo_cumples.json\", cumples)\n",
        "```\n",
        "  \n",
        "El arcihvo JSON debe ser de la forma:  \n",
        "  \n",
        "```json\n",
        "[\n",
        "    {\n",
        "        \"nombre\": \"Juan Perez\",\n",
        "        \"fecha_nac\": \"15/02/98\"\n",
        "    },\n",
        "    {\n",
        "        \"nombre\": \"Esteban Quito\",\n",
        "        \"fecha_nac\": \"08/07/95\"\n",
        "    }\n",
        "]\n",
        "```\n",
        "\n",
        "Probar la función con el ejemplo dado."
      ]
    },
    {
      "cell_type": "code",
      "source": [
        "import json\n",
        "\n",
        "def crear_archivo_cumples(nombre_archivo, lista_cumples):\n",
        "    with open(nombre_archivo, 'w') as archivo:\n",
        "        json.dump(lista_cumples, archivo)\n",
        "\n",
        "cumples = [{\"nombre\": \"Juan Perez\", \"fecha_nac\": \"15/02/98\"},\n",
        "           {\"nombre\": \"Esteban Quito\",\"fecha_nac\": \"08/07/95\"}]\n",
        "\n",
        "crear_archivo_cumples(\"archivo_cumples.json\", cumples)\n"
      ],
      "metadata": {
        "id": "MBM-nRNbCs3O"
      },
      "execution_count": null,
      "outputs": []
    },
    {
      "cell_type": "markdown",
      "metadata": {
        "id": "f2m5vQu90TYD"
      },
      "source": [
        "### **Ejercicio 3**\n",
        "\n",
        "Partiendo del archivo del ejercicio anterior, defina una función que permita agregar el nombre de una persona (y su fecha de nacimiento) al archivo. El nombre del archivo se debe pasar como parámetro, así como los datos de la persona, los cuales deben estar en un diccionario de la misma estructura que el ejercicio anterior.  \n",
        "  \n",
        "Se debe poder usar de la siguiente forma:  \n",
        "  \n",
        "```python\n",
        "cumple = {\"nombre\": \"Cosme Fulanito\", \"fecha_nac\": \"06/12/2001\"}\n",
        "agregar_cumple(\"archivo_cumples.json\", cumple)\n",
        "```\n",
        "\n",
        "Ayuda: primero leer el archivo, deserializarlo (se va a crear una lista), luego agregar el nuevo \"cumple\" y volver a serializarlo (para esto hay que borrar el archivo anterior o abrirlo con 'w' al guardar nuevamente)."
      ]
    },
    {
      "cell_type": "code",
      "source": [
        "import json\n",
        "\n",
        "\n",
        "def agregar_cumple(ruta_archivo, cumple):\n",
        "    # Leer el archivo y deserializar la lista de cumpleaños\n",
        "    with open(ruta_archivo, \"r\") as archivo:\n",
        "        cumples = json.load(archivo)\n",
        "\n",
        "    # Agregar el nuevo cumpleaños a la lista\n",
        "    cumples.append(cumple)\n",
        "\n",
        "    # Serializar la lista y guardarla en el archivo\n",
        "    with open(ruta_archivo, \"w\") as archivo:\n",
        "        json.dump(cumples, archivo)\n",
        "\n",
        "\n",
        "cumple = {\"nombre\": \"Cosme Fulanito\", \"fecha_nac\": \"06/12/2001\"}\n",
        "agregar_cumple(\"archivo_cumples.json\", cumple)"
      ],
      "metadata": {
        "id": "lug5MaC4Dczf"
      },
      "execution_count": null,
      "outputs": []
    },
    {
      "cell_type": "markdown",
      "metadata": {
        "id": "SN4Y8LTF0TYE"
      },
      "source": [
        "### **Ejercicio 4**\n",
        "\n",
        "Definir una clase `Cumples` que maneje una lista de los nombres y fechas de nacimiento de distintas personas. El estado de la lista de cumpleaños se debe almacenar en un archivo en formato JSON.  \n",
        "  \n",
        "La clase debe tener como atributo el nombre (ruta) del archivo, el cual se pasará como parámetro al crear un objeto.  \n",
        "  \n",
        "La clase de permitir:  \n",
        "  * Mostrar todos los nombres y sus respectivas fechas de nacimiento.\n",
        "  * Agregar los datos de una nueva persona.  \n",
        "  \n",
        "\n",
        "#### Opcional  \n",
        "  \n",
        "Al agregar los datos de una nueva persona, revisar si el mismo nombre ya se guardó anteriormente. Si es así almacenar la fecha nueva en lugar de la vieja, manteniendo el nombre de la persona."
      ]
    },
    {
      "cell_type": "code",
      "source": [
        "import json\n",
        "\n",
        "class Cumples:\n",
        "    \n",
        "    def __init__(self, archivo):\n",
        "        self.archivo = archivo\n",
        "        try:\n",
        "            with open(archivo) as f:\n",
        "                self.cumpleanos = json.load(f)\n",
        "        except FileNotFoundError:\n",
        "            self.cumpleanos = []\n",
        "\n",
        "    def mostrar_cumpleanos(self):\n",
        "        for cumple in self.cumpleanos:\n",
        "            print(cumple[\"nombre\"] + \": \" + cumple[\"fecha_nac\"])\n",
        "\n",
        "\n",
        "\n",
        "\n",
        "c = Cumples(\"cumpleanos.json\")\n",
        "c.mostrar_cumpleanos()  # muestra los cumpleaños almacenados en el archivo\n",
        "\n"
      ],
      "metadata": {
        "id": "Up6PVMJ0LUnh"
      },
      "execution_count": null,
      "outputs": []
    },
    {
      "cell_type": "markdown",
      "metadata": {
        "id": "QdKw9_TI0TYG"
      },
      "source": [
        "### **Ejercicio 5**\n",
        "\n",
        "Definir una función que permita leer un archivo CSV con las columnas: nombre, apellido y edad, y mostrar por pantalla las filas que cumplan con tener una edad mayor o igual a 18.  \n",
        "  \n",
        "El nombre del archivo se debe pasar como parámetro.  \n",
        "  \n",
        "Si el archivo contiene los siguientes datos:  \n",
        "  \n",
        "```\n",
        "# datos.csv\n",
        "Juan,Perez,29\n",
        "Esteban,Quito,17\n",
        "Cosme,Fulanito,18\n",
        "```\n",
        "  \n",
        "Se debe mostrar por pantalla:  \n",
        "  \n",
        "```\n",
        "Juan Perez, 29\n",
        "Cosme Fulanito, 18\n",
        "```"
      ]
    },
    {
      "cell_type": "code",
      "source": [
        "import csv\n",
        "\n",
        "def leer_csv_mayores(nombre_archivo):\n",
        "    with open(nombre_archivo, newline='') as archivo:\n",
        "        lector_csv = csv.reader(archivo)\n",
        "        for fila in lector_csv:\n",
        "            nombre = fila[0]\n",
        "            apellido = fila[1]\n",
        "            edad = int(fila[2])\n",
        "            if edad >= 18:\n",
        "                print(f\"{nombre} {apellido}, {edad}\")\n",
        "\n",
        "leer_csv_mayores(\"datos.csv\")\n"
      ],
      "metadata": {
        "id": "mYLYwIF32YPQ"
      },
      "execution_count": null,
      "outputs": []
    },
    {
      "cell_type": "code",
      "source": [],
      "metadata": {
        "id": "PwrolGsbqPvo"
      },
      "execution_count": null,
      "outputs": []
    },
    {
      "cell_type": "markdown",
      "metadata": {
        "id": "Whs3_98L0TYI"
      },
      "source": [
        "### **Ejercicio 6**\n",
        "\n",
        "Definir una función que lea un archivo CSV idéntico al del ejercicio anterior y que lo guarde en un archivo de formato JSON. Colocar cada fila o registro en una lista antes de serializar.  \n",
        "  \n",
        "Los nombres de ambos archivos se deben pasar como parámetros.  \n",
        "  \n",
        "Si el archivo CSV es el siguiente:  \n",
        "  \n",
        "```\n",
        "# datos.csv\n",
        "Juan,Perez,29\n",
        "Esteban,Quito,17\n",
        "Cosme,Fulanito,18\n",
        "```\n",
        "  \n",
        "El archivo JSON resultante debe ser:  \n",
        "  \n",
        "```\n",
        "# datos.json\n",
        "[{\"nombre\": \"Juan\", \"apellido\": \"Perez\", \"edad\": 29},\n",
        " {\"nombre\": \"Esteban\", \"apellido\": \"Quito\", \"edad\": 17},\n",
        " {\"nombre\": \"Cosme\", \"apellido\": \"Fulanito\", \"edad\": 18}]\n",
        "```\n",
        "  \n",
        "Ayuda, usar DictReader, con el encabezado `(\"nombre\", \"apellido\", \"edad\")` para obtener diccionarios a partir del archivo CSV para poder serializarlos mejor."
      ]
    },
    {
      "cell_type": "code",
      "source": [
        "import csv\n",
        "import json\n",
        "\n",
        "def csv_to_json(csv_file, json_file):\n",
        "    # Abrir el archivo CSV para leer\n",
        "    with open(csv_file, 'r', newline='') as file:\n",
        "        # Leer el archivo CSV como un diccionario\n",
        "        reader = csv.DictReader(file, fieldnames=[\"nombre\", \"apellido\", \"edad\"])\n",
        "        # Crear una lista de diccionarios a partir del diccionario leído\n",
        "        data = [row for row in reader if int(row['edad']) >= 18]\n",
        "    \n",
        "    # Serializar la lista de diccionarios como JSON y guardar en el archivo JSON\n",
        "    with open(json_file, 'w') as file:\n",
        "        json.dump(data, file, indent=4)\n",
        "\n",
        "\n"
      ],
      "metadata": {
        "id": "blVxDD10OoBf"
      },
      "execution_count": null,
      "outputs": []
    },
    {
      "cell_type": "markdown",
      "metadata": {
        "id": "U0KYg-IH0TYJ"
      },
      "source": [
        "### **Ejercicio 7**\n",
        "\n",
        "Recordando un ejercicio del módulo de funciones (transcripto a continuación).  \n",
        "  \n",
        "> Escribir una función que permita cargar los datos de alumnos de la universidad en diccionarios. Los datos que se van a pedir son: nombre, edad, carrera y número de legajo.  \n",
        "> Permitir al usuario ingresar todos los alumnos que quiera. Almacenar los datos de un alumno en un diccionario y a todos los diccionarios en una lista.  \n",
        "> Por ejemplo, si se hubieran ingresado los datos de cuatro alumnos, la lista de diccionarios quedaría de la siguiente forma:\n",
        "  \n",
        "\n",
        "```python\n",
        "datos_alumnos = [{\"nombre\": \"Yamila Rodríguez\", \"edad\": 21, \"carrera\": \"Técnico en Desarrollo de Software\", \"legajo\": 24345},\n",
        "                 {\"nombre\": \"Martina del Treco\", \"edad\": 19, \"carrera\": \"Técnico en Desarrollo de Software\", \"legajo\": 43563},\n",
        "                 {\"nombre\": \"Joaquín Correa\", \"edad\": 20, \"carrera\": \"Técnico en Desarrollo de Software\", \"legajo\": 91923},\n",
        "                 {\"nombre\": \"Luis Miguel Rodriguez\", \"edad\": 19, \"carrera\": \"Técnico en Desarrollo de Software\", \"legajo\": 43545}]\n",
        "```\n",
        "\n",
        "<br>\n",
        "\n",
        "  \n",
        "Crear una clase que mejore esta funcionalidad guardando los datos de los alumnos en un archivo CSV en lugar de una lista.  \n",
        "  \n",
        "El archivo deberá estar localizado en el directorio actual donde se corra el programa y se creará si no existe. Si el archivo ya existe se debe continuar escribiendo al final del mismo. El nombre del archivo debe ser pasado como parámetro al momento de instanciar el objeto de la nueva clase.  \n",
        "  \n",
        "Si entre los datos de un alumno a agregar hay alguno que contiene un legajo que ya existía en el archivo, se debe actualizar la información (no crear un registro nuevo).  \n",
        "  \n",
        "Para leer y escribir los datos al archivo CSV se puede usar cualquier objeto del módulo `csv` (aunque es recomendable usar `DictReader` y `DictWriter`).  \n",
        "  \n",
        "Tomando el ejemplo anterior, el archivo debe quedar como se ve a continuación.  \n",
        "  \n",
        "```\n",
        "Yamila Rodríguez,21,Técnico en Desarrollo de Software,24345\n",
        "Martina del Treco,19,Técnico en Desarrollo de Software,43563\n",
        "Joaquín Correa,20,Técnico en Desarrollo de Software,91923\n",
        "Luis Miguel Rodriguez,19,Técnico en Desarrollo de Software,43545\n",
        "```"
      ]
    },
    {
      "cell_type": "code",
      "source": [
        "import csv\n",
        "\n",
        "class Alumnos:\n",
        "    def __init__(self, archivo):\n",
        "        self.archivo = archivo\n",
        "        self.campos = [\"nombre\", \"edad\", \"carrera\", \"legajo\"]\n",
        "    \n",
        "    def agregar_alumno(self, alumno):\n",
        "        actualizar = False\n",
        "        with open(self.archivo, 'r', newline='') as archivo_csv:\n",
        "            reader = csv.DictReader(archivo_csv, fieldnames=self.campos)\n",
        "            alumnos = list(reader)\n",
        "            for al in alumnos:\n",
        "                if al['legajo'] == alumno['legajo']:\n",
        "                    al.update(alumno)\n",
        "                    actualizar = True\n",
        "                    break\n",
        "            if not actualizar:\n",
        "                alumnos.append(alumno)\n",
        "        \n",
        "        with open(self.archivo, 'w', newline='') as archivo_csv:\n",
        "            writer = csv.DictWriter(archivo_csv, fieldnames=self.campos)\n",
        "            writer.writerows(alumnos)\n",
        "\n",
        "alumnos = Alumnos('alumnos.csv')\n",
        "nuevo_alumno = {\"nombre\": \"Juan Perez\", \"edad\": 20, \"carrera\": \"Ingeniería en Sistemas\", \"legajo\": 12345}\n",
        "alumnos.agregar_alumno(nuevo_alumno)\n"
      ],
      "metadata": {
        "id": "p4t0PcFTOr2m"
      },
      "execution_count": 1,
      "outputs": []
    },
    {
      "cell_type": "markdown",
      "metadata": {
        "id": "b8TqrCPL0TYJ"
      },
      "source": [
        "### **Ejercicio 8** (opcional, uso de excepciones)\n",
        "\n",
        "Crear una clase `Bitacora` que implemente un método `escribir`, con el cual se pueda escribir un mensaje o registro en una línea, a un archivo de texto cada vez que se lo llame.  \n",
        "  \n",
        "El archivo deberá estar localizado en el directorio actual donde se corra el programa y se creará si no existe. Si el archivo ya existe se debe continuar escribiendo al final del mismo. El nombre del archivo debe ser pasado como parámetro al momento de instanciar el objeto `Bitacora`.  \n",
        "  \n",
        "Al escribir un registro en el archivo se debe incluir la fecha y hora actual (siguiendo el formato del ejemplo), y el mensaje. El mensaje se pasará como parámetro al método `escribir`.  \n",
        "  \n",
        "Crear una clase de excepción para la clase Bitacora, con la que se pueda indicar un error al usar la Bitacora, por ejemplo, si el mensaje pasado como parámetro no es un `str`.  \n",
        "  \n",
        "El archivo debe quedar como sigue:  \n",
        "  \n",
        "\n",
        "```\n",
        "05-12-2022 - 10:18: Esta es una linea de la bitacora.\n",
        "05-12-2022 - 10:19: Esta es otra linea de la bitacora.\n",
        "```\n",
        "\n",
        "Esqueleto de la clase Bitacora:  \n",
        "  \n",
        "\n",
        "```python\n",
        "class Bitacora:\n",
        "    \"\"\"Clase que implementa un cuaderno bitacora electronico\"\"\"\n",
        "    \n",
        "    def escribir(self, mensaje):\n",
        "        \"\"\"Escribe la fecha, hora y mensaje en el archivo de texto.\"\"\"\n",
        "        pass\n",
        "```\n",
        "  \n",
        "Ayuda: para obtener un objeto con la fecha y hora actual se puede usar el método `now()` de la clase `datetime` del módulo `datetime`. Y para obtener un `str` de fecha y hora a partir de un objeto `datetime` se puede usar el método `strftime()`, el cual necesita una cadena de formateo. [Leer documentación sobre `strftime` de `datetime`](https://docs.python.org/es/3/library/datetime.html#datetime.datetime.strftime) y [las cadenas de formateo](https://docs.python.org/es/3/library/datetime.html#strftime-and-strptime-behavior).  \n",
        "  \n",
        "\n",
        "<br>\n",
        "\n",
        "Opcional: Darle distintos niveles de importancia a los mensajes escritos en el archivo usando distintos métodos: `Bitacora.importante()`, `Bitacora.normal()`, `Bitacora.rutina()`.  \n",
        "  \n",
        "Los registros de rutina solo deben incluir la cadena `\"RUTINA\"` al inicio del mensaje.  \n",
        "Los registros normales deben incluir los segundos en la hora, además de la cadena `\"NORMAL\"` al inicio del mensaje.  \n",
        "Los registros importantes deben incluir los segundos en la hora, la cadena `\"IMPORTANTE\"` y entre paréntesis, el nombre de quien está agregando el mensaje al inicio del mismo. Debe tomar el nombre como parámetro.  \n",
        "  \n",
        "Al escribir el registro se debe indicar la importancia de alguna forma.  \n",
        "Por ejemplo:  \n",
        "  \n",
        "\n",
        "```\n",
        "05-12-2022 - 10:18:54 - IMPORTANTE (Juan Perez): Este es un mensaje importante.\n",
        "05-12-2022 - 10:19:32 - NORMAL: Este es un mensaje normal.\n",
        "05-12-2022 - 10:20 - RUTINA: Este es un mensaje de baja importancia.\n",
        "```\n",
        "\n",
        "  \n",
        "Opcional 2: Crear un menú que permita que una persona ingrese mensajes de distinto nivel de importancia."
      ]
    },
    {
      "cell_type": "markdown",
      "metadata": {
        "id": "BzNJhbJJ0TYK"
      },
      "source": [
        "\n",
        "### **Ejercicio 9** (opcional)\n",
        "\n",
        "El dataset `spotify_artist_data.csv` contiene datos sobre **reproducciones** de canciones de distintos artistas en Spotify ([Kaggle.com](https://www.kaggle.com/datasets/adnananam/spotify-artist-stats)). Las columnas del dataset son: numero, artista, reproducciones como lead (canciones propias), reproducciones como feat (como invitado), canciones, miles de millones, 100 millones y fecha de actualización.  \n",
        "  \n",
        "Se pide crear una función que cree un nuevo archivo conteniendo solo los datos de los artistas que tienen más reproducciones como feat. que como lead.  \n",
        "  \n",
        "Ayuda: las cantidades de reproducciones están almacenadas con comas (',') como separadores de miles. Para poder comparar hay que sacar esas comas y castear a `int`.  \n",
        "  \n",
        "Opcional: Crear un nuevo archivo con los datos de los artistas, pero ordenados por la mejor proporción de millones de reproducciones sobre cantidad de canciones. O sea, un artista que tenga 10 millones de reproducciones en 20 canciones (proporcion 10/20 = 0.5) va a estar ordenado mas arriba que un artista que tenga 10 millones de reproducciones en 40 canciones (proporción 10/40 = 0.25). Agergar el valor de la proporción como una nueva columna, después de \"Tracks\"."
      ]
    }
  ],
  "metadata": {
    "kernelspec": {
      "display_name": "Python 3",
      "language": "python",
      "name": "python3"
    },
    "language_info": {
      "codemirror_mode": {
        "name": "ipython",
        "version": 3
      },
      "file_extension": ".py",
      "mimetype": "text/x-python",
      "name": "python",
      "nbconvert_exporter": "python",
      "pygments_lexer": "ipython3",
      "version": "3.9.1"
    },
    "orig_nbformat": 4,
    "vscode": {
      "interpreter": {
        "hash": "2a4fb80cb3c171773cd027240bb470c91e78114f9d815845cf91c954721f781f"
      }
    },
    "colab": {
      "provenance": [],
      "include_colab_link": true
    }
  },
  "nbformat": 4,
  "nbformat_minor": 0
}