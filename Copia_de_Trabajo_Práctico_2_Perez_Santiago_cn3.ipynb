{
  "cells": [
    {
      "cell_type": "markdown",
      "metadata": {
        "id": "view-in-github",
        "colab_type": "text"
      },
      "source": [
        "<a href=\"https://colab.research.google.com/github/agustinperezsap/Agustin/blob/main/Copia_de_Trabajo_Pr%C3%A1ctico_2_Perez_Santiago_cn3.ipynb\" target=\"_parent\"><img src=\"https://colab.research.google.com/assets/colab-badge.svg\" alt=\"Open In Colab\"/></a>"
      ]
    },
    {
      "cell_type": "markdown",
      "metadata": {
        "id": "hflO4zX4_S_d"
      },
      "source": [
        "# **Trabajo Práctico 2 - Estructuras de Control**"
      ]
    },
    {
      "cell_type": "markdown",
      "metadata": {
        "id": "XngQGq1M_S_f"
      },
      "source": [
        "### Ejercicio 1\n",
        "\n",
        "Hacer un programa que permita saber si un año es bisiesto. Para que un año sea bisiesto debe ser divisible por 4 y no debe ser divisible por 100, excepto que también sea divisible por 400.\n",
        "\n",
        "#### Ejemplo:\n",
        " \n",
        "AÑO 2012 es divisible por 4 y no por 100 => **ES BISIESTO**\n",
        "    \n",
        "AÑO 2022 no es divisible por 4 => **No ES BISISETO**\n",
        "    \n",
        "\n",
        "Año 2000 es divisible por 4, es divisible por 100 y es divisible por 400 => **ES BISIESTO**\n",
        "\n",
        "Año 1900 es divisible por 4, es divisible por 100 y no es divisible por 400 => **NO ES BISIESTO**\n"
      ]
    },
    {
      "cell_type": "code",
      "source": [
        "anio = int(input(\"Ingrese un año: \"))\n",
        "if (anio % 4 == 0 and anio % 100 != 0) or anio % 400 == 0: #tengo el teclado en ingles y no puedo poner la ñ por eso anio \n",
        "  print(f\"EL año {anio} es bisiesto\")\n",
        "else:\n",
        "  print(f\"El año {anio} no es bisiesto\")\n",
        "\n"
      ],
      "metadata": {
        "id": "30Kh44zBNYoM",
        "colab": {
          "base_uri": "https://localhost:8080/"
        },
        "outputId": "4dfee640-de2e-4004-f669-c2f0e06e420b"
      },
      "execution_count": null,
      "outputs": [
        {
          "output_type": "stream",
          "name": "stdout",
          "text": [
            "Ingrese un año: 2022\n",
            "El año 2022 no es bisiesto\n"
          ]
        }
      ]
    },
    {
      "cell_type": "markdown",
      "metadata": {
        "id": "cLk9KiIL_S_g"
      },
      "source": [
        "### Ejercicio 2:\n",
        "\n",
        "Una local de comida rápida conocido de la ciudad ofrece hamburguesas vegetarianas y no vegetarianas a sus clientes.  \n",
        "  \n",
        "Los ingredientes para cada tipo aparecen a continuación:  \n",
        "* Ingredientes vegetarianos: calabaza - soja  \n",
        "* Ingredientes no vegetarianos: carne vacuna - carne de pollo  \n",
        "  \n",
        "Escribir un programa que pregunte al usuario si quiere una hamburguesa vegetariana o no, y en función de su respuesta le muestre un menú con los ingredientes disponibles para que elija. Solo se puede elegir un ingrediente. La lechuga, queso y el tomate están incluidos en todas las hamburguesas.  \n",
        "  \n",
        "Al final se debe mostrar por pantalla si la hamburguesa elegida es vegetariana o no y **todos** los ingredientes que lleva."
      ]
    },
    {
      "cell_type": "code",
      "source": [
        "opt = int(input('''Bienvenido \n",
        "Estas son nuestras haburguesas \n",
        "1. Vegetariana \n",
        "2. No vegetariana\n",
        "Ingrese opcion 1 o 2\n",
        "'''))\n",
        "while opt != 1 and opt != 2 :\n",
        "  opt = int(input(\"Opcion incorrecta, Digite la opcion 1 o la opcion 2: \"))\n",
        "if opt == 1:\n",
        "  opt_veg = input(\"\"\"Ingredientes disponibles: \n",
        "  Calabaza\n",
        "  Soja\n",
        "Escriba su opcion: \"\"\")\n",
        "  while opt_veg != \"calabaza\" and opt_veg != \"soja\": #escribir soja o calabaza en minuscula \n",
        "     opt_veg = input(\"Error, digite nuevamente \")\n",
        "  print(f\"Hmaburgesa Vegetariana con medallon de {opt_veg} con lechuga, queso y tomate\")\n",
        "else: \n",
        "  opt_no_veg = input(\"\"\"Ingredientes disponibles: \n",
        "Carne:\n",
        "vacuna\n",
        "pollo\n",
        "Escriba su opcion: \"\"\")\n",
        "  while opt_no_veg != \"vacuna\" and opt_no_veg != \"pollo\": #escribir vacuna o pollo en minuscula \n",
        "     opt_no_veg = input(\"Error, digite nuevamente \")\n",
        "  print(f\"Hmaburgesa No Vegetariana con medallon de carne de {opt_no_veg} con lechuga, queso y tomate\")\n",
        "\n",
        "\n"
      ],
      "metadata": {
        "id": "Sausz5jMOa5i",
        "colab": {
          "base_uri": "https://localhost:8080/"
        },
        "outputId": "cadbd7a1-45be-48ca-971a-e6f3276a038d"
      },
      "execution_count": null,
      "outputs": [
        {
          "output_type": "stream",
          "name": "stdout",
          "text": [
            "Bienvenido \n",
            "Estas son nuestras haburguesas \n",
            "1. Vegetariana \n",
            "2. No vegetariana\n",
            "Ingrese opcion 1 o 2\n",
            "7\n",
            "Opcion incorrecta, Digite la opcion 1 o la opcion 2: 2\n",
            "Ingredientes disponibles: \n",
            "Carne:\n",
            "vacuna\n",
            "pollo\n",
            "Escriba su opcion: pollo\n",
            "Hmaburgesa No Vegetariana con medallon de carne de pollo con lechuga, queso y tomate\n"
          ]
        }
      ]
    },
    {
      "cell_type": "markdown",
      "metadata": {
        "id": "Gjtl-4PJ_S_h"
      },
      "source": [
        "### Ejercicio 3\n",
        "\n",
        "Se desea calcular el salario neto semanal de un trabajador en función del número de horas trabajadas en la semana y el precio que se paga por hora:  \n",
        "* Las primeras 35 horas se pagan a tarifa normal.  \n",
        "* Las horas que pasen de 35 se pagan a 1.5 veces la tarifa normal.  \n",
        "  \n",
        "El usuario debe ingresar la cantidad de horas trabajadas de la semana y la tarifa normal por hora. El programa debe mostrar como salida, el salario neto semanal del trabajador.  "
      ]
    },
    {
      "cell_type": "code",
      "source": [
        "tarifa_hora = float(input(\"Ingrese la tarifa por hora: $\"))\n",
        "horas_trabajadas = int(input(\"Ingrese las horas trabajadas: \"))\n",
        "if horas_trabajadas > 35:\n",
        "  salario = (tarifa_hora * 1.5) * horas_trabajadas\n",
        "  print(f\"Salario total: {salario}\")\n",
        "else:\n",
        "  salario = tarifa_hora * horas_trabajadas\n",
        "  print(f\"Salario total: {salario}\")"
      ],
      "metadata": {
        "id": "2j3gD2UgatA9"
      },
      "execution_count": null,
      "outputs": []
    },
    {
      "cell_type": "markdown",
      "metadata": {
        "id": "Zuc_jMKW_S_i"
      },
      "source": [
        "### Ejercicio 4\n",
        "\n",
        "Escribir un programa que almacene una cadena de texto que contenga una contraseña cualquiera. Luego debe ofrecer 3 intentos para el ingreso de una nueva cadena de texto. Si la contraseña no coincide debe mostrar un mensaje diciendo \"Contraseña incorrecta\". Cuando las contraseñas coincidan ya no se deberá solicitar más ingresos y se mostrará un mensaje diciendo “FELICITACIONES”. Además deberá mostrar un mensaje advirtiendo “CONTRASEÑA BLOQUEADA” si falló todos los intentos.  \n",
        "  \n",
        "#### Ejemplos\n",
        "\n",
        "contraseña original: `*123#`  \n",
        "contraseña ingresada 1: `*123#`  \n",
        "salida: FELICITACIONES  \n",
        "  \n",
        "---\n",
        "  \n",
        "contraseña original: `*123#`  \n",
        "contraseña ingresada 1: `hola`  \n",
        "salida: Contraseña incorrecta  \n",
        "contraseña ingresada 2: `123456`  \n",
        "salida: Contraseña incorrecta  \n",
        "contraseña ingresada 3: `*123#`  \n",
        "salida: FELICITACIONES  \n",
        "  \n",
        "---\n",
        "  \n",
        "contraseña original: `*123#`  \n",
        "contraseña ingresada 1: `secreto`  \n",
        "salida: Contraseña incorrecta  \n",
        "contraseña ingresada 2: `123456`  \n",
        "salida: Contraseña incorrecta  \n",
        "contraseña ingresada 3: `alvlgeddl`  \n",
        "salida: Contraseña incorrecta  \n",
        "salida: CONTRASEÑA BLOQUEADA  "
      ]
    },
    {
      "cell_type": "code",
      "source": [
        "contrasenia = \"*123#\"\n",
        "contr_ingresada = input(\"Hola Usuario. Ingrese su contrasenia para ingresar: \")\n",
        "intentos = 3\n",
        "while contrasenia != contr_ingresada and intentos > 0:\n",
        "  contr_ingresada = input(\"INCORRECTO. Digite nuevamente : \")\n",
        "  intentos = intentos - 1\n",
        "if intentos == 0:\n",
        "  print(\"COTRASENIA BLOQUEADA\")\n",
        "else:\n",
        "  print(\"FELICITACIONES\")\n"
      ],
      "metadata": {
        "colab": {
          "base_uri": "https://localhost:8080/"
        },
        "id": "HOgq-9eIgacR",
        "outputId": "d51be190-cc21-428a-f83e-c3cc3b219f36"
      },
      "execution_count": null,
      "outputs": [
        {
          "output_type": "stream",
          "name": "stdout",
          "text": [
            "Hola Usuario. Ingrese su contrasenia para ingresar: awdwad\n",
            "INCORRECTO. Digite nuevamente : *123#\n",
            "FELICITACIONES\n"
          ]
        }
      ]
    },
    {
      "cell_type": "markdown",
      "metadata": {
        "id": "eS7REn7z_S_j"
      },
      "source": [
        "### Ejercicio 5\n",
        "\n",
        "Crear un programa que solicite el ingreso de números enteros positivos, hasta que el usuario ingrese el 0. Por cada número, informar cuántos dígitos pares y cuántos impares tiene.  \n",
        "  \n",
        "Al finalizar informar la cantidad total de dígitos pares e impares contabilizados.  \n",
        "\n",
        "**Descomponer un número**  \n",
        "Para descomponer un número usaremos 2 operaciones. El resto y división entera por 10. Por ejemplo:  \n",
        "\n",
        "numero = 350  \n",
        "El resto de 350 por 10 es \"0\" (tenemos el ultimo digito de numero)  \n",
        "Si dividimos 350 por 10 parte entera el resultado es 35 => numero = 35  \n",
        "El resto de 35 por 10 es \"5\" (tenemos el ultimo digito de numero)  \n",
        "Si dividimos 35 por 10 parte entera el resultado es 3 => numero = 3  \n",
        "El resto de 3 por 10 es \"3\" (tenemos el ultimo digito de numero)  \n",
        "  \n",
        "Con este procedimiento pudimos descomponer el número 350."
      ]
    },
    {
      "cell_type": "code",
      "source": [
        "n = int(input(\"Ingrese un numero: \"))\n",
        "\n",
        "while n != 0 :\n",
        "  # n = int(input(\"Ingrese un numero: \"))\n",
        "  contador_pares = 0\n",
        "  contador_impares = 0\n",
        "  x = n\n",
        "  print(f\"numero ingresado {n}\")\n",
        "  while x != 0 :\n",
        "    digito = x % 10\n",
        "    if digito % 2 == 0:\n",
        "      contador_pares = contador_pares + 1\n",
        "    else:\n",
        "      contador_impares = contador_impares + 1\n",
        "    x = x // 10 \n",
        "  print(f\"Cantidad de digitos pares {contador_pares} y cantidad de impares {contador_impares}\")\n",
        "  n = int(input(\"Ingrese un otro numero si desea continuar, si no, ingrese cero: \"))\n"
      ],
      "metadata": {
        "id": "yHlCr08ljgSL"
      },
      "execution_count": null,
      "outputs": []
    },
    {
      "cell_type": "markdown",
      "metadata": {
        "id": "662d9VPD_S_j"
      },
      "source": [
        "### Ejercicio 6\n",
        "\n",
        "Escriba un programa en Python para imprimir todos los números primos entre 0 y 100 e imprima cuántos números primos hay.\n",
        "\n",
        "**Número Primo**: Un número natural, mayor a 1, es primo si y solo si tiene únicamente dos divisores positivos distintos, el 1 y él mismo.\n",
        "\n",
        "**Ejemplo**\n",
        "\n",
        "2 es divisible por 1 y por 2; eso quiere decir que ES PRIMO.\n",
        "  \n",
        "4 es divisible por 1 por 2 y por 4. Entonces existen 3 números que dividen a 4 por lo tanto NO ES PRIMO ya que no cumple con la definición."
      ]
    },
    {
      "cell_type": "code",
      "source": [
        "cantidad_primos = 0\n",
        "\n",
        "for i in range(100) : \n",
        "  posible_div = 2\n",
        "  while posible_div <= i // 2 and i % posible_div != 0 : \n",
        "    posible_div = posible_div + 1\n",
        "  if posible_div > i // 2  and i != 1 :\n",
        "    cantidad_primos = cantidad_primos + 1\n",
        "    print(i)\n",
        "print(f\"Cantidad de nros primos en total: {cantidad_primos}\")\n",
        "  \n"
      ],
      "metadata": {
        "id": "81-N8RNjiX38"
      },
      "execution_count": null,
      "outputs": []
    },
    {
      "cell_type": "markdown",
      "metadata": {
        "id": "15TiAe5h_S_k"
      },
      "source": [
        "### Ejercicio 7\n",
        "\n",
        "Crear un programa que solicite el ingreso de números enteros positivos, hasta que el usuario ingrese el 0. Por cada número mostrarlo e informar si es capicúa.  \n",
        "  \n",
        "Un número es capicúa si se lee igual de adelante hacia atrás o de atrás hacia adelante."
      ]
    },
    {
      "cell_type": "code",
      "source": [
        "n = int(input(\"Ingrese un numero: \")) #Solo pude hacer con tres digitos \n",
        "\n",
        "while n != 0:\n",
        "  if n>0:\n",
        "    if n >=10000:\n",
        "      print ('El numero tiene mas de 3 digitos.')\n",
        "    if n<10000 and (n - n % 100)//100 == n %10:\n",
        "      print ('El numero es capicua.')\n",
        "    if n<10000 and (n - n % 100)// 100!= n %10:\n",
        "      print ('El numero no es capicua.')\n",
        "    n = int(input(\"Ingrese un otro numero o cero: \"))\n",
        "  else:\n",
        "    n = int(input(\"Ingrese un otro numero o cero: \"))\n",
        "\n"
      ],
      "metadata": {
        "id": "BuwThalwoGyY"
      },
      "execution_count": null,
      "outputs": []
    },
    {
      "cell_type": "markdown",
      "metadata": {
        "id": "9_X2fU7A_S_k"
      },
      "source": [
        "### Ejercicio 8\n",
        "\n",
        "Crear un programa que calcule el factorial de un número ingresado 'N' entero y positivo.  \n",
        "\n",
        "**Ref.: Modulo nro. 1 - Ejercicio de diagramación parte uno - \"ejercicio nro. 12\"**"
      ]
    },
    {
      "cell_type": "code",
      "source": [
        "n = int(input(\"Ingrese un numero: \"))\n",
        "for x in range(1, n+1):\n",
        "  fac = 1\n",
        "  for y in range(1,x+1):\n",
        "      fac = fac * y\n",
        "  print(fac)"
      ],
      "metadata": {
        "id": "u9yqi2wUtMoC"
      },
      "execution_count": null,
      "outputs": []
    },
    {
      "cell_type": "markdown",
      "metadata": {
        "id": "LoQN8RWO_S_l"
      },
      "source": [
        "### Ejercicio 9\n",
        "\n",
        "Crear un programa para calcular MCD (máximo común divisor) de dos números enteros positivos. Se debe pedir al usuario que ingrese ambos numeros. Realizar el cálculo y mostrar el resultado por pantalla.  \n",
        "  \n",
        "  \n",
        "#### Máximo común divisor\n",
        "\n",
        "En matemáticas, se denomina máximo común divisor o MCD al mayor número que divide exactamente a dos o más números a la vez.  \n",
        "  \n",
        "**Ejemplo**:  \n",
        "Supogamos que tenemos el número 12 y el 16:  \n",
        "  \n",
        "* 1, 2, 3, **4**, 6, 12 dividen a 12 sin dejar resto.  \n",
        "* 1, 2, **4**, 8, 16 dividen a 16 sin dejar resto.  \n",
        "  \n",
        "Entonces el **MCD(12,16) = 4**,  ya que es el número más grande que divide ambos números sin dejar resto."
      ]
    },
    {
      "cell_type": "code",
      "source": [
        "print(\"Maximo comun divisor de dos numeros.\")\n",
        "n1 = int(input(\"Ingrese un numero: \"))\n",
        "n2 = int(input(\"Ingrese otro numero: \"))\n",
        "MCD=1\n",
        "i=0\n",
        "for MCD in range (n1-i,0,-1):\n",
        "    if n1 % MCD == 0 and n2 % MCD == 0:\n",
        "        print(f\"El MCD es {MCD}\")\n",
        "        break\n",
        "i=i+1\n",
        "\n"
      ],
      "metadata": {
        "id": "0Q5qWUe1xoQA"
      },
      "execution_count": null,
      "outputs": []
    },
    {
      "cell_type": "markdown",
      "metadata": {
        "id": "WJQhxPu5_S_l"
      },
      "source": [
        "### Ejercicio 10\n",
        "\n",
        "Dado un número natural `k` ingresado, mostrar los numeros primos anterior a `k`.  \n",
        "  \n",
        "**Ejemplo**:  \n",
        "Si `k = 6` se mostrará: `2, 3, 5`"
      ]
    },
    {
      "cell_type": "code",
      "source": [
        "n = int(input(\"Ingrese un numero: \"))\n",
        "for i in range(n) : \n",
        "  posible_div = 2\n",
        "  while posible_div <= i // 2 and i % posible_div != 0 : \n",
        "    posible_div = posible_div + 1\n",
        "  if posible_div > i // 2  and i != 1 :\n",
        "    print(i)\n",
        "\n",
        "  "
      ],
      "metadata": {
        "id": "o6rTdogr5Ry4"
      },
      "execution_count": null,
      "outputs": []
    }
  ],
  "metadata": {
    "kernelspec": {
      "display_name": "Python 3.11.0 64-bit",
      "language": "python",
      "name": "python3"
    },
    "language_info": {
      "name": "python",
      "version": "3.11.0"
    },
    "orig_nbformat": 4,
    "vscode": {
      "interpreter": {
        "hash": "c18ae8fe89751170a9886ae5cc87d86f8c23fa3a8c1e2c8d4a10966a26ac4e01"
      }
    },
    "colab": {
      "provenance": [],
      "include_colab_link": true
    }
  },
  "nbformat": 4,
  "nbformat_minor": 0
}